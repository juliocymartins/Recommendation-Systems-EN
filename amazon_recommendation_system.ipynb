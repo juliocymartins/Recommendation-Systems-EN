{
 "cells": [
  {
   "cell_type": "markdown",
   "metadata": {},
   "source": [
    "# Amazon Recommendation System \n",
    "\n",
    "Welcome to the Amazon Recommendation System project! This project is about the development of a recommendation system utilizing Cosine Similarity, which was applied to tags generated from review and product columns within the Amazon Sales dataset sourced from Kaggle. The dataset underwent preprocessing steps, including stop words removal, stemming, and count vectorization, to enhance its utility. Amazon is a prominent American multinational technology company recognized worldwide for its extensive e-commerce platform.\n",
    "\n",
    "Link to Dataset: https://www.kaggle.com/datasets/karkavelrajaj/amazon-sales-dataset"
   ]
  },
  {
   "cell_type": "markdown",
   "metadata": {},
   "source": [
    "# Summary\n",
    "\n",
    "### Chapter 1: Exploratory and Statistical Analysis\n",
    "- 1.1: Importing Data and First Look\n",
    "- 1.2: Checking Data Types\n",
    "- 1.3: Checking Null Values\n",
    "- 1.4: Checking Undesired Values\n",
    "\n",
    "### Chapter 2: Data Processing\n",
    "- 2.1: Separating the Important Columns\n",
    "- 2.2: Handling Null Values\n",
    "- 2.3: Handling Undesired Values\n",
    "- 2.4: Handling Columns Types\n",
    "- 2.5: Tags Generation\n",
    "- 2.6: Handling 'http' Tags\n",
    "\n",
    "### Chapter 3: Building Recommendation Model\n",
    "- 3.1: Stop Words\n",
    "- 3.2: Stemming\n",
    "- 3.3: Count Vectorizer\n",
    "- 3.4: Cosine Similarity\n",
    "- 3.5: Creating a Product Recommendation System\n",
    "\n",
    "### Chapter 4: Tests and Conclusions\n",
    "- Final Tests and Conclusions of The Project"
   ]
  },
  {
   "cell_type": "markdown",
   "metadata": {},
   "source": [
    "# Chapter 1: Exploratory and Statistical Analysis"
   ]
  },
  {
   "cell_type": "markdown",
   "metadata": {},
   "source": [
    "In this section, we take a close look at our data to understand what it can tell us. \n",
    "\n",
    "This step is crucial for getting to know our data better before we dive into more advanced techniques.\n",
    "\n",
    "### 1.1: Importing Data and First Look"
   ]
  },
  {
   "cell_type": "code",
   "execution_count": 1,
   "metadata": {},
   "outputs": [],
   "source": [
    "import pandas as pd\n",
    "import numpy as np\n",
    "\n",
    "# Eliminate the warnings. \n",
    "import warnings\n",
    "warnings.filterwarnings(\"ignore\")"
   ]
  },
  {
   "cell_type": "code",
   "execution_count": 2,
   "metadata": {},
   "outputs": [
    {
     "data": {
      "text/html": [
       "<div>\n",
       "<style scoped>\n",
       "    .dataframe tbody tr th:only-of-type {\n",
       "        vertical-align: middle;\n",
       "    }\n",
       "\n",
       "    .dataframe tbody tr th {\n",
       "        vertical-align: top;\n",
       "    }\n",
       "\n",
       "    .dataframe thead th {\n",
       "        text-align: right;\n",
       "    }\n",
       "</style>\n",
       "<table border=\"1\" class=\"dataframe\">\n",
       "  <thead>\n",
       "    <tr style=\"text-align: right;\">\n",
       "      <th></th>\n",
       "      <th>product_id</th>\n",
       "      <th>product_name</th>\n",
       "      <th>category</th>\n",
       "      <th>discounted_price</th>\n",
       "      <th>actual_price</th>\n",
       "      <th>discount_percentage</th>\n",
       "      <th>rating</th>\n",
       "      <th>rating_count</th>\n",
       "      <th>about_product</th>\n",
       "      <th>user_id</th>\n",
       "      <th>user_name</th>\n",
       "      <th>review_id</th>\n",
       "      <th>review_title</th>\n",
       "      <th>review_content</th>\n",
       "      <th>img_link</th>\n",
       "      <th>product_link</th>\n",
       "    </tr>\n",
       "  </thead>\n",
       "  <tbody>\n",
       "    <tr>\n",
       "      <th>0</th>\n",
       "      <td>B07JW9H4J1</td>\n",
       "      <td>Wayona Nylon Braided USB to Lightning Fast Cha...</td>\n",
       "      <td>Computers&amp;Accessories|Accessories&amp;Peripherals|...</td>\n",
       "      <td>₹399</td>\n",
       "      <td>₹1,099</td>\n",
       "      <td>64%</td>\n",
       "      <td>4.2</td>\n",
       "      <td>24,269</td>\n",
       "      <td>High Compatibility : Compatible With iPhone 12...</td>\n",
       "      <td>AG3D6O4STAQKAY2UVGEUV46KN35Q,AHMY5CWJMMK5BJRBB...</td>\n",
       "      <td>Manav,Adarsh gupta,Sundeep,S.Sayeed Ahmed,jasp...</td>\n",
       "      <td>R3HXWT0LRP0NMF,R2AJM3LFTLZHFO,R6AQJGUP6P86,R1K...</td>\n",
       "      <td>Satisfied,Charging is really fast,Value for mo...</td>\n",
       "      <td>Looks durable Charging is fine tooNo complains...</td>\n",
       "      <td>https://m.media-amazon.com/images/W/WEBP_40237...</td>\n",
       "      <td>https://www.amazon.in/Wayona-Braided-WN3LG1-Sy...</td>\n",
       "    </tr>\n",
       "    <tr>\n",
       "      <th>1</th>\n",
       "      <td>B098NS6PVG</td>\n",
       "      <td>Ambrane Unbreakable 60W / 3A Fast Charging 1.5...</td>\n",
       "      <td>Computers&amp;Accessories|Accessories&amp;Peripherals|...</td>\n",
       "      <td>₹199</td>\n",
       "      <td>₹349</td>\n",
       "      <td>43%</td>\n",
       "      <td>4.0</td>\n",
       "      <td>43,994</td>\n",
       "      <td>Compatible with all Type C enabled devices, be...</td>\n",
       "      <td>AECPFYFQVRUWC3KGNLJIOREFP5LQ,AGYYVPDD7YG7FYNBX...</td>\n",
       "      <td>ArdKn,Nirbhay kumar,Sagar Viswanathan,Asp,Plac...</td>\n",
       "      <td>RGIQEG07R9HS2,R1SMWZQ86XIN8U,R2J3Y1WL29GWDE,RY...</td>\n",
       "      <td>A Good Braided Cable for Your Type C Device,Go...</td>\n",
       "      <td>I ordered this cable to connect my phone to An...</td>\n",
       "      <td>https://m.media-amazon.com/images/W/WEBP_40237...</td>\n",
       "      <td>https://www.amazon.in/Ambrane-Unbreakable-Char...</td>\n",
       "    </tr>\n",
       "    <tr>\n",
       "      <th>2</th>\n",
       "      <td>B096MSW6CT</td>\n",
       "      <td>Sounce Fast Phone Charging Cable &amp; Data Sync U...</td>\n",
       "      <td>Computers&amp;Accessories|Accessories&amp;Peripherals|...</td>\n",
       "      <td>₹199</td>\n",
       "      <td>₹1,899</td>\n",
       "      <td>90%</td>\n",
       "      <td>3.9</td>\n",
       "      <td>7,928</td>\n",
       "      <td>【 Fast Charger&amp; Data Sync】-With built-in safet...</td>\n",
       "      <td>AGU3BBQ2V2DDAMOAKGFAWDDQ6QHA,AESFLDV2PT363T2AQ...</td>\n",
       "      <td>Kunal,Himanshu,viswanath,sai niharka,saqib mal...</td>\n",
       "      <td>R3J3EQQ9TZI5ZJ,R3E7WBGK7ID0KV,RWU79XKQ6I1QF,R2...</td>\n",
       "      <td>Good speed for earlier versions,Good Product,W...</td>\n",
       "      <td>Not quite durable and sturdy,https://m.media-a...</td>\n",
       "      <td>https://m.media-amazon.com/images/W/WEBP_40237...</td>\n",
       "      <td>https://www.amazon.in/Sounce-iPhone-Charging-C...</td>\n",
       "    </tr>\n",
       "    <tr>\n",
       "      <th>3</th>\n",
       "      <td>B08HDJ86NZ</td>\n",
       "      <td>boAt Deuce USB 300 2 in 1 Type-C &amp; Micro USB S...</td>\n",
       "      <td>Computers&amp;Accessories|Accessories&amp;Peripherals|...</td>\n",
       "      <td>₹329</td>\n",
       "      <td>₹699</td>\n",
       "      <td>53%</td>\n",
       "      <td>4.2</td>\n",
       "      <td>94,363</td>\n",
       "      <td>The boAt Deuce USB 300 2 in 1 cable is compati...</td>\n",
       "      <td>AEWAZDZZJLQUYVOVGBEUKSLXHQ5A,AG5HTSFRRE6NL3M5S...</td>\n",
       "      <td>Omkar dhale,JD,HEMALATHA,Ajwadh a.,amar singh ...</td>\n",
       "      <td>R3EEUZKKK9J36I,R3HJVYCLYOY554,REDECAZ7AMPQC,R1...</td>\n",
       "      <td>Good product,Good one,Nice,Really nice product...</td>\n",
       "      <td>Good product,long wire,Charges good,Nice,I bou...</td>\n",
       "      <td>https://m.media-amazon.com/images/I/41V5FtEWPk...</td>\n",
       "      <td>https://www.amazon.in/Deuce-300-Resistant-Tang...</td>\n",
       "    </tr>\n",
       "    <tr>\n",
       "      <th>4</th>\n",
       "      <td>B08CF3B7N1</td>\n",
       "      <td>Portronics Konnect L 1.2M Fast Charging 3A 8 P...</td>\n",
       "      <td>Computers&amp;Accessories|Accessories&amp;Peripherals|...</td>\n",
       "      <td>₹154</td>\n",
       "      <td>₹399</td>\n",
       "      <td>61%</td>\n",
       "      <td>4.2</td>\n",
       "      <td>16,905</td>\n",
       "      <td>[CHARGE &amp; SYNC FUNCTION]- This cable comes wit...</td>\n",
       "      <td>AE3Q6KSUK5P75D5HFYHCRAOLODSA,AFUGIFH5ZAFXRDSZH...</td>\n",
       "      <td>rahuls6099,Swasat Borah,Ajay Wadke,Pranali,RVK...</td>\n",
       "      <td>R1BP4L2HH9TFUP,R16PVJEXKV6QZS,R2UPDB81N66T4P,R...</td>\n",
       "      <td>As good as original,Decent,Good one for second...</td>\n",
       "      <td>Bought this instead of original apple, does th...</td>\n",
       "      <td>https://m.media-amazon.com/images/W/WEBP_40237...</td>\n",
       "      <td>https://www.amazon.in/Portronics-Konnect-POR-1...</td>\n",
       "    </tr>\n",
       "    <tr>\n",
       "      <th>...</th>\n",
       "      <td>...</td>\n",
       "      <td>...</td>\n",
       "      <td>...</td>\n",
       "      <td>...</td>\n",
       "      <td>...</td>\n",
       "      <td>...</td>\n",
       "      <td>...</td>\n",
       "      <td>...</td>\n",
       "      <td>...</td>\n",
       "      <td>...</td>\n",
       "      <td>...</td>\n",
       "      <td>...</td>\n",
       "      <td>...</td>\n",
       "      <td>...</td>\n",
       "      <td>...</td>\n",
       "      <td>...</td>\n",
       "    </tr>\n",
       "    <tr>\n",
       "      <th>1460</th>\n",
       "      <td>B08L7J3T31</td>\n",
       "      <td>Noir Aqua - 5pcs PP Spun Filter + 1 Spanner | ...</td>\n",
       "      <td>Home&amp;Kitchen|Kitchen&amp;HomeAppliances|WaterPurif...</td>\n",
       "      <td>₹379</td>\n",
       "      <td>₹919</td>\n",
       "      <td>59%</td>\n",
       "      <td>4</td>\n",
       "      <td>1,090</td>\n",
       "      <td>SUPREME QUALITY 90 GRAM 3 LAYER THIK PP SPUN F...</td>\n",
       "      <td>AHITFY6AHALOFOHOZEOC6XBP4FEA,AFRABBODZJZQB6Z4U...</td>\n",
       "      <td>Prabha ds,Raghuram bk,Real Deal,Amazon Custome...</td>\n",
       "      <td>R3G3XFHPBFF0E8,R3C0BZCD32EIGW,R2EBVBCN9QPD9R,R...</td>\n",
       "      <td>Received the product without spanner,Excellent...</td>\n",
       "      <td>I received product without spanner,Excellent p...</td>\n",
       "      <td>https://m.media-amazon.com/images/I/41fDdRtjfx...</td>\n",
       "      <td>https://www.amazon.in/Noir-Aqua-Spanner-Purifi...</td>\n",
       "    </tr>\n",
       "    <tr>\n",
       "      <th>1461</th>\n",
       "      <td>B01M6453MB</td>\n",
       "      <td>Prestige Delight PRWO Electric Rice Cooker (1 ...</td>\n",
       "      <td>Home&amp;Kitchen|Kitchen&amp;HomeAppliances|SmallKitch...</td>\n",
       "      <td>₹2,280</td>\n",
       "      <td>₹3,045</td>\n",
       "      <td>25%</td>\n",
       "      <td>4.1</td>\n",
       "      <td>4,118</td>\n",
       "      <td>230 Volts, 400 watts, 1 Year</td>\n",
       "      <td>AFG5FM3NEMOL6BNFRV2NK5FNJCHQ,AGEINTRN6Z563RMLH...</td>\n",
       "      <td>Manu Bhai,Naveenpittu,Evatira Sangma,JAGANNADH...</td>\n",
       "      <td>R3DDL2UPKQ2CK9,R2SYYU1OATVIU5,R1VM993161IYRW,R...</td>\n",
       "      <td>ok,everything was good couldn't return bcoz I ...</td>\n",
       "      <td>ok,got everything as mentioned but the measuri...</td>\n",
       "      <td>https://m.media-amazon.com/images/I/41gzDxk4+k...</td>\n",
       "      <td>https://www.amazon.in/Prestige-Delight-PRWO-1-...</td>\n",
       "    </tr>\n",
       "    <tr>\n",
       "      <th>1462</th>\n",
       "      <td>B009P2LIL4</td>\n",
       "      <td>Bajaj Majesty RX10 2000 Watts Heat Convector R...</td>\n",
       "      <td>Home&amp;Kitchen|Heating,Cooling&amp;AirQuality|RoomHe...</td>\n",
       "      <td>₹2,219</td>\n",
       "      <td>₹3,080</td>\n",
       "      <td>28%</td>\n",
       "      <td>3.6</td>\n",
       "      <td>468</td>\n",
       "      <td>International design and styling|Two heat sett...</td>\n",
       "      <td>AGVPWCMAHYQWJOQKMUJN4DW3KM5Q,AF4Q3E66MY4SR7YQZ...</td>\n",
       "      <td>Nehal Desai,Danish Parwez,Amazon Customer,Amaz...</td>\n",
       "      <td>R1TLRJVW4STY5I,R2O455KRN493R1,R3Q5MVGBRIAS2G,R...</td>\n",
       "      <td>very good,Work but front melt after 2 month,Go...</td>\n",
       "      <td>plastic but cool body ,u have to find sturdy s...</td>\n",
       "      <td>https://m.media-amazon.com/images/W/WEBP_40237...</td>\n",
       "      <td>https://www.amazon.in/Bajaj-RX-10-2000-Watt-Co...</td>\n",
       "    </tr>\n",
       "    <tr>\n",
       "      <th>1463</th>\n",
       "      <td>B00J5DYCCA</td>\n",
       "      <td>Havells Ventil Air DSP 230mm Exhaust Fan (Pist...</td>\n",
       "      <td>Home&amp;Kitchen|Heating,Cooling&amp;AirQuality|Fans|E...</td>\n",
       "      <td>₹1,399</td>\n",
       "      <td>₹1,890</td>\n",
       "      <td>26%</td>\n",
       "      <td>4</td>\n",
       "      <td>8,031</td>\n",
       "      <td>Fan sweep area: 230 MM ; Noise level: (40 - 45...</td>\n",
       "      <td>AF2JQCLSCY3QJATWUNNHUSVUPNQQ,AFDMLUXC5LS5RXDJS...</td>\n",
       "      <td>Shubham Dubey,E.GURUBARAN,Mayank S.,eusuf khan...</td>\n",
       "      <td>R39Q2Y79MM9SWK,R3079BG1NIH6MB,R29A31ZELTZNJM,R...</td>\n",
       "      <td>Fan Speed is slow,Good quality,Good product,go...</td>\n",
       "      <td>I have installed this in my kitchen working fi...</td>\n",
       "      <td>https://m.media-amazon.com/images/W/WEBP_40237...</td>\n",
       "      <td>https://www.amazon.in/Havells-Ventilair-230mm-...</td>\n",
       "    </tr>\n",
       "    <tr>\n",
       "      <th>1464</th>\n",
       "      <td>B01486F4G6</td>\n",
       "      <td>Borosil Jumbo 1000-Watt Grill Sandwich Maker (...</td>\n",
       "      <td>Home&amp;Kitchen|Kitchen&amp;HomeAppliances|SmallKitch...</td>\n",
       "      <td>₹2,863</td>\n",
       "      <td>₹3,690</td>\n",
       "      <td>22%</td>\n",
       "      <td>4.3</td>\n",
       "      <td>6,987</td>\n",
       "      <td>Brand-Borosil, Specification â€“ 23V ~ 5Hz;1 W...</td>\n",
       "      <td>AFGW5PT3R6ZAVQR4Y5MWVAKBZAYA,AG7QNJ2SCS5VS5VYY...</td>\n",
       "      <td>Rajib,Ajay B,Vikas Kahol,PARDEEP,Anindya Prama...</td>\n",
       "      <td>R20RBRZ0WEUJT9,ROKIFK9R2ISSE,R30EEG2FNJSN5I,R2...</td>\n",
       "      <td>Works perfect,Ok good product,Nice Product. Re...</td>\n",
       "      <td>It does it job perfectly..only issue is temp c...</td>\n",
       "      <td>https://m.media-amazon.com/images/W/WEBP_40237...</td>\n",
       "      <td>https://www.amazon.in/Borosil-Jumbo-1000-Watt-...</td>\n",
       "    </tr>\n",
       "  </tbody>\n",
       "</table>\n",
       "<p>1465 rows × 16 columns</p>\n",
       "</div>"
      ],
      "text/plain": [
       "      product_id                                       product_name  \\\n",
       "0     B07JW9H4J1  Wayona Nylon Braided USB to Lightning Fast Cha...   \n",
       "1     B098NS6PVG  Ambrane Unbreakable 60W / 3A Fast Charging 1.5...   \n",
       "2     B096MSW6CT  Sounce Fast Phone Charging Cable & Data Sync U...   \n",
       "3     B08HDJ86NZ  boAt Deuce USB 300 2 in 1 Type-C & Micro USB S...   \n",
       "4     B08CF3B7N1  Portronics Konnect L 1.2M Fast Charging 3A 8 P...   \n",
       "...          ...                                                ...   \n",
       "1460  B08L7J3T31  Noir Aqua - 5pcs PP Spun Filter + 1 Spanner | ...   \n",
       "1461  B01M6453MB  Prestige Delight PRWO Electric Rice Cooker (1 ...   \n",
       "1462  B009P2LIL4  Bajaj Majesty RX10 2000 Watts Heat Convector R...   \n",
       "1463  B00J5DYCCA  Havells Ventil Air DSP 230mm Exhaust Fan (Pist...   \n",
       "1464  B01486F4G6  Borosil Jumbo 1000-Watt Grill Sandwich Maker (...   \n",
       "\n",
       "                                               category discounted_price  \\\n",
       "0     Computers&Accessories|Accessories&Peripherals|...             ₹399   \n",
       "1     Computers&Accessories|Accessories&Peripherals|...             ₹199   \n",
       "2     Computers&Accessories|Accessories&Peripherals|...             ₹199   \n",
       "3     Computers&Accessories|Accessories&Peripherals|...             ₹329   \n",
       "4     Computers&Accessories|Accessories&Peripherals|...             ₹154   \n",
       "...                                                 ...              ...   \n",
       "1460  Home&Kitchen|Kitchen&HomeAppliances|WaterPurif...             ₹379   \n",
       "1461  Home&Kitchen|Kitchen&HomeAppliances|SmallKitch...           ₹2,280   \n",
       "1462  Home&Kitchen|Heating,Cooling&AirQuality|RoomHe...           ₹2,219   \n",
       "1463  Home&Kitchen|Heating,Cooling&AirQuality|Fans|E...           ₹1,399   \n",
       "1464  Home&Kitchen|Kitchen&HomeAppliances|SmallKitch...           ₹2,863   \n",
       "\n",
       "     actual_price discount_percentage rating rating_count  \\\n",
       "0          ₹1,099                 64%    4.2       24,269   \n",
       "1            ₹349                 43%    4.0       43,994   \n",
       "2          ₹1,899                 90%    3.9        7,928   \n",
       "3            ₹699                 53%    4.2       94,363   \n",
       "4            ₹399                 61%    4.2       16,905   \n",
       "...           ...                 ...    ...          ...   \n",
       "1460         ₹919                 59%      4        1,090   \n",
       "1461       ₹3,045                 25%    4.1        4,118   \n",
       "1462       ₹3,080                 28%    3.6          468   \n",
       "1463       ₹1,890                 26%      4        8,031   \n",
       "1464       ₹3,690                 22%    4.3        6,987   \n",
       "\n",
       "                                          about_product  \\\n",
       "0     High Compatibility : Compatible With iPhone 12...   \n",
       "1     Compatible with all Type C enabled devices, be...   \n",
       "2     【 Fast Charger& Data Sync】-With built-in safet...   \n",
       "3     The boAt Deuce USB 300 2 in 1 cable is compati...   \n",
       "4     [CHARGE & SYNC FUNCTION]- This cable comes wit...   \n",
       "...                                                 ...   \n",
       "1460  SUPREME QUALITY 90 GRAM 3 LAYER THIK PP SPUN F...   \n",
       "1461                       230 Volts, 400 watts, 1 Year   \n",
       "1462  International design and styling|Two heat sett...   \n",
       "1463  Fan sweep area: 230 MM ; Noise level: (40 - 45...   \n",
       "1464  Brand-Borosil, Specification â€“ 23V ~ 5Hz;1 W...   \n",
       "\n",
       "                                                user_id  \\\n",
       "0     AG3D6O4STAQKAY2UVGEUV46KN35Q,AHMY5CWJMMK5BJRBB...   \n",
       "1     AECPFYFQVRUWC3KGNLJIOREFP5LQ,AGYYVPDD7YG7FYNBX...   \n",
       "2     AGU3BBQ2V2DDAMOAKGFAWDDQ6QHA,AESFLDV2PT363T2AQ...   \n",
       "3     AEWAZDZZJLQUYVOVGBEUKSLXHQ5A,AG5HTSFRRE6NL3M5S...   \n",
       "4     AE3Q6KSUK5P75D5HFYHCRAOLODSA,AFUGIFH5ZAFXRDSZH...   \n",
       "...                                                 ...   \n",
       "1460  AHITFY6AHALOFOHOZEOC6XBP4FEA,AFRABBODZJZQB6Z4U...   \n",
       "1461  AFG5FM3NEMOL6BNFRV2NK5FNJCHQ,AGEINTRN6Z563RMLH...   \n",
       "1462  AGVPWCMAHYQWJOQKMUJN4DW3KM5Q,AF4Q3E66MY4SR7YQZ...   \n",
       "1463  AF2JQCLSCY3QJATWUNNHUSVUPNQQ,AFDMLUXC5LS5RXDJS...   \n",
       "1464  AFGW5PT3R6ZAVQR4Y5MWVAKBZAYA,AG7QNJ2SCS5VS5VYY...   \n",
       "\n",
       "                                              user_name  \\\n",
       "0     Manav,Adarsh gupta,Sundeep,S.Sayeed Ahmed,jasp...   \n",
       "1     ArdKn,Nirbhay kumar,Sagar Viswanathan,Asp,Plac...   \n",
       "2     Kunal,Himanshu,viswanath,sai niharka,saqib mal...   \n",
       "3     Omkar dhale,JD,HEMALATHA,Ajwadh a.,amar singh ...   \n",
       "4     rahuls6099,Swasat Borah,Ajay Wadke,Pranali,RVK...   \n",
       "...                                                 ...   \n",
       "1460  Prabha ds,Raghuram bk,Real Deal,Amazon Custome...   \n",
       "1461  Manu Bhai,Naveenpittu,Evatira Sangma,JAGANNADH...   \n",
       "1462  Nehal Desai,Danish Parwez,Amazon Customer,Amaz...   \n",
       "1463  Shubham Dubey,E.GURUBARAN,Mayank S.,eusuf khan...   \n",
       "1464  Rajib,Ajay B,Vikas Kahol,PARDEEP,Anindya Prama...   \n",
       "\n",
       "                                              review_id  \\\n",
       "0     R3HXWT0LRP0NMF,R2AJM3LFTLZHFO,R6AQJGUP6P86,R1K...   \n",
       "1     RGIQEG07R9HS2,R1SMWZQ86XIN8U,R2J3Y1WL29GWDE,RY...   \n",
       "2     R3J3EQQ9TZI5ZJ,R3E7WBGK7ID0KV,RWU79XKQ6I1QF,R2...   \n",
       "3     R3EEUZKKK9J36I,R3HJVYCLYOY554,REDECAZ7AMPQC,R1...   \n",
       "4     R1BP4L2HH9TFUP,R16PVJEXKV6QZS,R2UPDB81N66T4P,R...   \n",
       "...                                                 ...   \n",
       "1460  R3G3XFHPBFF0E8,R3C0BZCD32EIGW,R2EBVBCN9QPD9R,R...   \n",
       "1461  R3DDL2UPKQ2CK9,R2SYYU1OATVIU5,R1VM993161IYRW,R...   \n",
       "1462  R1TLRJVW4STY5I,R2O455KRN493R1,R3Q5MVGBRIAS2G,R...   \n",
       "1463  R39Q2Y79MM9SWK,R3079BG1NIH6MB,R29A31ZELTZNJM,R...   \n",
       "1464  R20RBRZ0WEUJT9,ROKIFK9R2ISSE,R30EEG2FNJSN5I,R2...   \n",
       "\n",
       "                                           review_title  \\\n",
       "0     Satisfied,Charging is really fast,Value for mo...   \n",
       "1     A Good Braided Cable for Your Type C Device,Go...   \n",
       "2     Good speed for earlier versions,Good Product,W...   \n",
       "3     Good product,Good one,Nice,Really nice product...   \n",
       "4     As good as original,Decent,Good one for second...   \n",
       "...                                                 ...   \n",
       "1460  Received the product without spanner,Excellent...   \n",
       "1461  ok,everything was good couldn't return bcoz I ...   \n",
       "1462  very good,Work but front melt after 2 month,Go...   \n",
       "1463  Fan Speed is slow,Good quality,Good product,go...   \n",
       "1464  Works perfect,Ok good product,Nice Product. Re...   \n",
       "\n",
       "                                         review_content  \\\n",
       "0     Looks durable Charging is fine tooNo complains...   \n",
       "1     I ordered this cable to connect my phone to An...   \n",
       "2     Not quite durable and sturdy,https://m.media-a...   \n",
       "3     Good product,long wire,Charges good,Nice,I bou...   \n",
       "4     Bought this instead of original apple, does th...   \n",
       "...                                                 ...   \n",
       "1460  I received product without spanner,Excellent p...   \n",
       "1461  ok,got everything as mentioned but the measuri...   \n",
       "1462  plastic but cool body ,u have to find sturdy s...   \n",
       "1463  I have installed this in my kitchen working fi...   \n",
       "1464  It does it job perfectly..only issue is temp c...   \n",
       "\n",
       "                                               img_link  \\\n",
       "0     https://m.media-amazon.com/images/W/WEBP_40237...   \n",
       "1     https://m.media-amazon.com/images/W/WEBP_40237...   \n",
       "2     https://m.media-amazon.com/images/W/WEBP_40237...   \n",
       "3     https://m.media-amazon.com/images/I/41V5FtEWPk...   \n",
       "4     https://m.media-amazon.com/images/W/WEBP_40237...   \n",
       "...                                                 ...   \n",
       "1460  https://m.media-amazon.com/images/I/41fDdRtjfx...   \n",
       "1461  https://m.media-amazon.com/images/I/41gzDxk4+k...   \n",
       "1462  https://m.media-amazon.com/images/W/WEBP_40237...   \n",
       "1463  https://m.media-amazon.com/images/W/WEBP_40237...   \n",
       "1464  https://m.media-amazon.com/images/W/WEBP_40237...   \n",
       "\n",
       "                                           product_link  \n",
       "0     https://www.amazon.in/Wayona-Braided-WN3LG1-Sy...  \n",
       "1     https://www.amazon.in/Ambrane-Unbreakable-Char...  \n",
       "2     https://www.amazon.in/Sounce-iPhone-Charging-C...  \n",
       "3     https://www.amazon.in/Deuce-300-Resistant-Tang...  \n",
       "4     https://www.amazon.in/Portronics-Konnect-POR-1...  \n",
       "...                                                 ...  \n",
       "1460  https://www.amazon.in/Noir-Aqua-Spanner-Purifi...  \n",
       "1461  https://www.amazon.in/Prestige-Delight-PRWO-1-...  \n",
       "1462  https://www.amazon.in/Bajaj-RX-10-2000-Watt-Co...  \n",
       "1463  https://www.amazon.in/Havells-Ventilair-230mm-...  \n",
       "1464  https://www.amazon.in/Borosil-Jumbo-1000-Watt-...  \n",
       "\n",
       "[1465 rows x 16 columns]"
      ]
     },
     "execution_count": 2,
     "metadata": {},
     "output_type": "execute_result"
    }
   ],
   "source": [
    "# load CSV file from Google Drive\n",
    "amazon_df = pd.read_csv(\"amazon.csv\")\n",
    "amazon_df"
   ]
  },
  {
   "cell_type": "markdown",
   "metadata": {},
   "source": [
    "As we can see, this is a dataset containing products of Amazon, and reviews related to them. We can find several well-known and lesser-known products to the general public, along with various data about them.\n",
    "\n",
    "The dataset has 1465 rows and 16 columns."
   ]
  },
  {
   "cell_type": "markdown",
   "metadata": {},
   "source": [
    "### 1.2: Checking Data Types\n",
    "\n",
    "'dtypes' show us the type of each column of our dataframe."
   ]
  },
  {
   "cell_type": "code",
   "execution_count": 3,
   "metadata": {},
   "outputs": [
    {
     "data": {
      "text/plain": [
       "product_id             object\n",
       "product_name           object\n",
       "category               object\n",
       "discounted_price       object\n",
       "actual_price           object\n",
       "discount_percentage    object\n",
       "rating                 object\n",
       "rating_count           object\n",
       "about_product          object\n",
       "user_id                object\n",
       "user_name              object\n",
       "review_id              object\n",
       "review_title           object\n",
       "review_content         object\n",
       "img_link               object\n",
       "product_link           object\n",
       "dtype: object"
      ]
     },
     "execution_count": 3,
     "metadata": {},
     "output_type": "execute_result"
    }
   ],
   "source": [
    "amazon_df.dtypes"
   ]
  },
  {
   "cell_type": "markdown",
   "metadata": {},
   "source": [
    "All columns are 'object' type."
   ]
  },
  {
   "cell_type": "code",
   "execution_count": 4,
   "metadata": {},
   "outputs": [
    {
     "data": {
      "text/plain": [
       "Index(['product_id', 'product_name', 'category', 'discounted_price',\n",
       "       'actual_price', 'discount_percentage', 'rating', 'rating_count',\n",
       "       'about_product', 'user_id', 'user_name', 'review_id', 'review_title',\n",
       "       'review_content', 'img_link', 'product_link'],\n",
       "      dtype='object')"
      ]
     },
     "execution_count": 4,
     "metadata": {},
     "output_type": "execute_result"
    }
   ],
   "source": [
    "amazon_df.columns"
   ]
  },
  {
   "cell_type": "markdown",
   "metadata": {},
   "source": [
    "### 1.3: Checking Null Values\n",
    "\n",
    "We'll use 'isnull()' and 'sum()' to see how many null values the columns has."
   ]
  },
  {
   "cell_type": "code",
   "execution_count": 5,
   "metadata": {},
   "outputs": [
    {
     "data": {
      "text/plain": [
       "product_id             0\n",
       "product_name           0\n",
       "category               0\n",
       "discounted_price       0\n",
       "actual_price           0\n",
       "discount_percentage    0\n",
       "rating                 0\n",
       "rating_count           2\n",
       "about_product          0\n",
       "user_id                0\n",
       "user_name              0\n",
       "review_id              0\n",
       "review_title           0\n",
       "review_content         0\n",
       "img_link               0\n",
       "product_link           0\n",
       "dtype: int64"
      ]
     },
     "execution_count": 5,
     "metadata": {},
     "output_type": "execute_result"
    }
   ],
   "source": [
    "amazon_df.isnull().sum()"
   ]
  },
  {
   "cell_type": "markdown",
   "metadata": {},
   "source": [
    "There are two null values in \"rating_count\"."
   ]
  },
  {
   "cell_type": "markdown",
   "metadata": {},
   "source": [
    "### 1.4: Checking Undesired Values"
   ]
  },
  {
   "cell_type": "markdown",
   "metadata": {},
   "source": [
    "Reviewing the table in Excel, it came to my attention that certain entries in the 'review_content' column contain hyperlinks to web pages. While this column holds significance in the development of our recommendation system, these embedded links are irrelevant.\n",
    "\n",
    "Let's see how many rows they appear in."
   ]
  },
  {
   "cell_type": "code",
   "execution_count": 6,
   "metadata": {},
   "outputs": [
    {
     "data": {
      "text/html": [
       "<div>\n",
       "<style scoped>\n",
       "    .dataframe tbody tr th:only-of-type {\n",
       "        vertical-align: middle;\n",
       "    }\n",
       "\n",
       "    .dataframe tbody tr th {\n",
       "        vertical-align: top;\n",
       "    }\n",
       "\n",
       "    .dataframe thead th {\n",
       "        text-align: right;\n",
       "    }\n",
       "</style>\n",
       "<table border=\"1\" class=\"dataframe\">\n",
       "  <thead>\n",
       "    <tr style=\"text-align: right;\">\n",
       "      <th></th>\n",
       "      <th>product_id</th>\n",
       "      <th>product_name</th>\n",
       "      <th>category</th>\n",
       "      <th>discounted_price</th>\n",
       "      <th>actual_price</th>\n",
       "      <th>discount_percentage</th>\n",
       "      <th>rating</th>\n",
       "      <th>rating_count</th>\n",
       "      <th>about_product</th>\n",
       "      <th>user_id</th>\n",
       "      <th>user_name</th>\n",
       "      <th>review_id</th>\n",
       "      <th>review_title</th>\n",
       "      <th>review_content</th>\n",
       "      <th>img_link</th>\n",
       "      <th>product_link</th>\n",
       "    </tr>\n",
       "  </thead>\n",
       "  <tbody>\n",
       "    <tr>\n",
       "      <th>0</th>\n",
       "      <td>B07JW9H4J1</td>\n",
       "      <td>Wayona Nylon Braided USB to Lightning Fast Cha...</td>\n",
       "      <td>Computers&amp;Accessories|Accessories&amp;Peripherals|...</td>\n",
       "      <td>₹399</td>\n",
       "      <td>₹1,099</td>\n",
       "      <td>64%</td>\n",
       "      <td>4.2</td>\n",
       "      <td>24,269</td>\n",
       "      <td>High Compatibility : Compatible With iPhone 12...</td>\n",
       "      <td>AG3D6O4STAQKAY2UVGEUV46KN35Q,AHMY5CWJMMK5BJRBB...</td>\n",
       "      <td>Manav,Adarsh gupta,Sundeep,S.Sayeed Ahmed,jasp...</td>\n",
       "      <td>R3HXWT0LRP0NMF,R2AJM3LFTLZHFO,R6AQJGUP6P86,R1K...</td>\n",
       "      <td>Satisfied,Charging is really fast,Value for mo...</td>\n",
       "      <td>Looks durable Charging is fine tooNo complains...</td>\n",
       "      <td>https://m.media-amazon.com/images/W/WEBP_40237...</td>\n",
       "      <td>https://www.amazon.in/Wayona-Braided-WN3LG1-Sy...</td>\n",
       "    </tr>\n",
       "    <tr>\n",
       "      <th>2</th>\n",
       "      <td>B096MSW6CT</td>\n",
       "      <td>Sounce Fast Phone Charging Cable &amp; Data Sync U...</td>\n",
       "      <td>Computers&amp;Accessories|Accessories&amp;Peripherals|...</td>\n",
       "      <td>₹199</td>\n",
       "      <td>₹1,899</td>\n",
       "      <td>90%</td>\n",
       "      <td>3.9</td>\n",
       "      <td>7,928</td>\n",
       "      <td>【 Fast Charger&amp; Data Sync】-With built-in safet...</td>\n",
       "      <td>AGU3BBQ2V2DDAMOAKGFAWDDQ6QHA,AESFLDV2PT363T2AQ...</td>\n",
       "      <td>Kunal,Himanshu,viswanath,sai niharka,saqib mal...</td>\n",
       "      <td>R3J3EQQ9TZI5ZJ,R3E7WBGK7ID0KV,RWU79XKQ6I1QF,R2...</td>\n",
       "      <td>Good speed for earlier versions,Good Product,W...</td>\n",
       "      <td>Not quite durable and sturdy,https://m.media-a...</td>\n",
       "      <td>https://m.media-amazon.com/images/W/WEBP_40237...</td>\n",
       "      <td>https://www.amazon.in/Sounce-iPhone-Charging-C...</td>\n",
       "    </tr>\n",
       "    <tr>\n",
       "      <th>5</th>\n",
       "      <td>B08Y1TFSP6</td>\n",
       "      <td>pTron Solero TB301 3A Type-C Data and Fast Cha...</td>\n",
       "      <td>Computers&amp;Accessories|Accessories&amp;Peripherals|...</td>\n",
       "      <td>₹149</td>\n",
       "      <td>₹1,000</td>\n",
       "      <td>85%</td>\n",
       "      <td>3.9</td>\n",
       "      <td>24,871</td>\n",
       "      <td>Fast Charging &amp; Data Sync: Solero TB301 Type-C...</td>\n",
       "      <td>AEQ2YMXSZWEOHK2EHTNLOS56YTZQ,AGRVINWECNY7323CW...</td>\n",
       "      <td>Jayesh,Rajesh k.,Soopy,amazon customer,Aman,Sh...</td>\n",
       "      <td>R7S8ANNSDPR40,R3CLZFLHVJU26P,RFF7U7MPQFUGR,R1M...</td>\n",
       "      <td>It's pretty good,Average quality,very good and...</td>\n",
       "      <td>It's a good product.,Like,Very good item stron...</td>\n",
       "      <td>https://m.media-amazon.com/images/I/31wOPjcSxl...</td>\n",
       "      <td>https://www.amazon.in/Solero-TB301-Charging-48...</td>\n",
       "    </tr>\n",
       "    <tr>\n",
       "      <th>15</th>\n",
       "      <td>B083342NKJ</td>\n",
       "      <td>MI Braided USB Type-C Cable for Charging Adapt...</td>\n",
       "      <td>Computers&amp;Accessories|Accessories&amp;Peripherals|...</td>\n",
       "      <td>₹349</td>\n",
       "      <td>₹399</td>\n",
       "      <td>13%</td>\n",
       "      <td>4.4</td>\n",
       "      <td>18,757</td>\n",
       "      <td>1M Long Cable. Usb 2.0 (Type A)|Toughened Join...</td>\n",
       "      <td>AGSGSRTEZBQY64WO2HKQTV7TWFSA,AEYD5HVYAJ23CR6PT...</td>\n",
       "      <td>Birendra ku Dash,Aditya Gupta,Abdulla A N,Deep...</td>\n",
       "      <td>R2JPQNKCOE10UK,RQI80JG2WZXNF,R2LYZ4CUWPMUJN,R1...</td>\n",
       "      <td>Good product,using this product 8months It is ...</td>\n",
       "      <td>I like it 👍👍,Best charging power . I used this...</td>\n",
       "      <td>https://m.media-amazon.com/images/W/WEBP_40237...</td>\n",
       "      <td>https://www.amazon.in/Mi-Braided-USB-Type-C-Ca...</td>\n",
       "    </tr>\n",
       "    <tr>\n",
       "      <th>16</th>\n",
       "      <td>B0B6F7LX4C</td>\n",
       "      <td>MI 80 cm (32 inches) 5A Series HD Ready Smart ...</td>\n",
       "      <td>Electronics|HomeTheater,TV&amp;Video|Televisions|S...</td>\n",
       "      <td>₹13,999</td>\n",
       "      <td>₹24,999</td>\n",
       "      <td>44%</td>\n",
       "      <td>4.2</td>\n",
       "      <td>32,840</td>\n",
       "      <td>Note : The brands, Mi and Xiaomi, are part of ...</td>\n",
       "      <td>AHEVOQADJSSRX7DS325HSFLMP7VQ,AG7XYZRCSKX6G2OLO...</td>\n",
       "      <td>Manoj maddheshiya,Manoj Kumar Sahoo,Saumil s.,...</td>\n",
       "      <td>R13UTIA6KOF6QV,R2UGDZSGFF01K7,RHHIZ45VYU5X6,R1...</td>\n",
       "      <td>It is the best tv if you are getting it in 10-...</td>\n",
       "      <td>Pros- xiomi 5a is best in budget-Nice picture ...</td>\n",
       "      <td>https://m.media-amazon.com/images/I/51fmHk3km+...</td>\n",
       "      <td>https://www.amazon.in/MI-inches-Ready-Android-...</td>\n",
       "    </tr>\n",
       "  </tbody>\n",
       "</table>\n",
       "</div>"
      ],
      "text/plain": [
       "    product_id                                       product_name  \\\n",
       "0   B07JW9H4J1  Wayona Nylon Braided USB to Lightning Fast Cha...   \n",
       "2   B096MSW6CT  Sounce Fast Phone Charging Cable & Data Sync U...   \n",
       "5   B08Y1TFSP6  pTron Solero TB301 3A Type-C Data and Fast Cha...   \n",
       "15  B083342NKJ  MI Braided USB Type-C Cable for Charging Adapt...   \n",
       "16  B0B6F7LX4C  MI 80 cm (32 inches) 5A Series HD Ready Smart ...   \n",
       "\n",
       "                                             category discounted_price  \\\n",
       "0   Computers&Accessories|Accessories&Peripherals|...             ₹399   \n",
       "2   Computers&Accessories|Accessories&Peripherals|...             ₹199   \n",
       "5   Computers&Accessories|Accessories&Peripherals|...             ₹149   \n",
       "15  Computers&Accessories|Accessories&Peripherals|...             ₹349   \n",
       "16  Electronics|HomeTheater,TV&Video|Televisions|S...          ₹13,999   \n",
       "\n",
       "   actual_price discount_percentage rating rating_count  \\\n",
       "0        ₹1,099                 64%    4.2       24,269   \n",
       "2        ₹1,899                 90%    3.9        7,928   \n",
       "5        ₹1,000                 85%    3.9       24,871   \n",
       "15         ₹399                 13%    4.4       18,757   \n",
       "16      ₹24,999                 44%    4.2       32,840   \n",
       "\n",
       "                                        about_product  \\\n",
       "0   High Compatibility : Compatible With iPhone 12...   \n",
       "2   【 Fast Charger& Data Sync】-With built-in safet...   \n",
       "5   Fast Charging & Data Sync: Solero TB301 Type-C...   \n",
       "15  1M Long Cable. Usb 2.0 (Type A)|Toughened Join...   \n",
       "16  Note : The brands, Mi and Xiaomi, are part of ...   \n",
       "\n",
       "                                              user_id  \\\n",
       "0   AG3D6O4STAQKAY2UVGEUV46KN35Q,AHMY5CWJMMK5BJRBB...   \n",
       "2   AGU3BBQ2V2DDAMOAKGFAWDDQ6QHA,AESFLDV2PT363T2AQ...   \n",
       "5   AEQ2YMXSZWEOHK2EHTNLOS56YTZQ,AGRVINWECNY7323CW...   \n",
       "15  AGSGSRTEZBQY64WO2HKQTV7TWFSA,AEYD5HVYAJ23CR6PT...   \n",
       "16  AHEVOQADJSSRX7DS325HSFLMP7VQ,AG7XYZRCSKX6G2OLO...   \n",
       "\n",
       "                                            user_name  \\\n",
       "0   Manav,Adarsh gupta,Sundeep,S.Sayeed Ahmed,jasp...   \n",
       "2   Kunal,Himanshu,viswanath,sai niharka,saqib mal...   \n",
       "5   Jayesh,Rajesh k.,Soopy,amazon customer,Aman,Sh...   \n",
       "15  Birendra ku Dash,Aditya Gupta,Abdulla A N,Deep...   \n",
       "16  Manoj maddheshiya,Manoj Kumar Sahoo,Saumil s.,...   \n",
       "\n",
       "                                            review_id  \\\n",
       "0   R3HXWT0LRP0NMF,R2AJM3LFTLZHFO,R6AQJGUP6P86,R1K...   \n",
       "2   R3J3EQQ9TZI5ZJ,R3E7WBGK7ID0KV,RWU79XKQ6I1QF,R2...   \n",
       "5   R7S8ANNSDPR40,R3CLZFLHVJU26P,RFF7U7MPQFUGR,R1M...   \n",
       "15  R2JPQNKCOE10UK,RQI80JG2WZXNF,R2LYZ4CUWPMUJN,R1...   \n",
       "16  R13UTIA6KOF6QV,R2UGDZSGFF01K7,RHHIZ45VYU5X6,R1...   \n",
       "\n",
       "                                         review_title  \\\n",
       "0   Satisfied,Charging is really fast,Value for mo...   \n",
       "2   Good speed for earlier versions,Good Product,W...   \n",
       "5   It's pretty good,Average quality,very good and...   \n",
       "15  Good product,using this product 8months It is ...   \n",
       "16  It is the best tv if you are getting it in 10-...   \n",
       "\n",
       "                                       review_content  \\\n",
       "0   Looks durable Charging is fine tooNo complains...   \n",
       "2   Not quite durable and sturdy,https://m.media-a...   \n",
       "5   It's a good product.,Like,Very good item stron...   \n",
       "15  I like it 👍👍,Best charging power . I used this...   \n",
       "16  Pros- xiomi 5a is best in budget-Nice picture ...   \n",
       "\n",
       "                                             img_link  \\\n",
       "0   https://m.media-amazon.com/images/W/WEBP_40237...   \n",
       "2   https://m.media-amazon.com/images/W/WEBP_40237...   \n",
       "5   https://m.media-amazon.com/images/I/31wOPjcSxl...   \n",
       "15  https://m.media-amazon.com/images/W/WEBP_40237...   \n",
       "16  https://m.media-amazon.com/images/I/51fmHk3km+...   \n",
       "\n",
       "                                         product_link  \n",
       "0   https://www.amazon.in/Wayona-Braided-WN3LG1-Sy...  \n",
       "2   https://www.amazon.in/Sounce-iPhone-Charging-C...  \n",
       "5   https://www.amazon.in/Solero-TB301-Charging-48...  \n",
       "15  https://www.amazon.in/Mi-Braided-USB-Type-C-Ca...  \n",
       "16  https://www.amazon.in/MI-inches-Ready-Android-...  "
      ]
     },
     "execution_count": 6,
     "metadata": {},
     "output_type": "execute_result"
    }
   ],
   "source": [
    "# Finding all rows where the 'tags' column contains the specific string\n",
    "tags_contendo_imagem = amazon_df[amazon_df['review_content'].str.contains('https:')]\n",
    "\n",
    "# Display the found rows\n",
    "tags_contendo_imagem.head()"
   ]
  },
  {
   "cell_type": "code",
   "execution_count": 7,
   "metadata": {},
   "outputs": [
    {
     "data": {
      "text/plain": [
       "(233, 16)"
      ]
     },
     "execution_count": 7,
     "metadata": {},
     "output_type": "execute_result"
    }
   ],
   "source": [
    "tags_contendo_imagem.shape"
   ]
  },
  {
   "cell_type": "markdown",
   "metadata": {},
   "source": [
    "233 rows in our dataframe contain links to web addresses that are not relevant for creating our tags. We will handle them in the next phase of our project.\n",
    "\n",
    "There's a row in the 'rating' column containing the value '|' instead of a number. Let's check how often this occurs."
   ]
  },
  {
   "cell_type": "code",
   "execution_count": 8,
   "metadata": {},
   "outputs": [
    {
     "data": {
      "text/plain": [
       "array(['4.2', '4.0', '3.9', '4.1', '4.3', '4.4', '4.5', '3.7', '3.3',\n",
       "       '3.6', '3.4', '3.8', '3.5', '4.6', '3.2', '5.0', '4.7', '3.0',\n",
       "       '2.8', '4', '3.1', '4.8', '2.3', '|', '2', '3', '2.6', '2.9'],\n",
       "      dtype=object)"
      ]
     },
     "execution_count": 8,
     "metadata": {},
     "output_type": "execute_result"
    }
   ],
   "source": [
    "unique_ratings = amazon_df['rating'].unique()\n",
    "unique_ratings"
   ]
  },
  {
   "cell_type": "code",
   "execution_count": 9,
   "metadata": {},
   "outputs": [
    {
     "name": "stdout",
     "output_type": "stream",
     "text": [
      "The character \"|\" appears 1 times in the column \"rating\".\n"
     ]
    }
   ],
   "source": [
    "# Counting the number of occurrences of '|'\n",
    "count_pipe = (amazon_df['rating'] == '|').sum()\n",
    "\n",
    "print(f'The character \"|\" appears {count_pipe} times in the column \"rating\".')"
   ]
  },
  {
   "cell_type": "markdown",
   "metadata": {},
   "source": [
    "Let's check if the Indian rupee symbol is present in all values of the 'actual_price' column. These values will need to be addressed later.\n",
    "\n",
    "- Indian rupee is the currency of India."
   ]
  },
  {
   "cell_type": "code",
   "execution_count": 10,
   "metadata": {},
   "outputs": [
    {
     "name": "stdout",
     "output_type": "stream",
     "text": [
      "The rupee sign appears in all values: ₹\n"
     ]
    }
   ],
   "source": [
    "# Using .loc to avoid SettingWithCopyWarning\n",
    "# Creating the column 'first_letter'\n",
    "amazon_df.loc[:, 'first_letter'] = amazon_df['actual_price'].str[0]\n",
    "\n",
    "# Display the unique first letters present in the column\n",
    "unique_first_letters = amazon_df['first_letter'].unique()\n",
    "\n",
    "# Check if there is more than one first letter\n",
    "if len(unique_first_letters) == 1:\n",
    "    print(f'The rupee sign appears in all values: {unique_first_letters[0]}')\n",
    "else:\n",
    "    print('The rupee sign does not appear in all values.')"
   ]
  },
  {
   "cell_type": "code",
   "execution_count": 11,
   "metadata": {},
   "outputs": [],
   "source": [
    "# Dropping the first_letter column used to check the rupee sign\n",
    "amazon_df = amazon_df.drop(columns=['first_letter'])"
   ]
  },
  {
   "cell_type": "markdown",
   "metadata": {},
   "source": [
    "# Chapter 2: Data Processing\n",
    "\n",
    "This section involves formatting and consolidating relevant data columns to create a unified representation of each product attributes. \n",
    "\n",
    "The processed data will serve as the foundation for building the recommendation system."
   ]
  },
  {
   "cell_type": "markdown",
   "metadata": {},
   "source": [
    "### 2.1: Separating the Important Columns\n",
    "\n",
    "We will separate here the most relevant columns for our project."
   ]
  },
  {
   "cell_type": "code",
   "execution_count": 12,
   "metadata": {},
   "outputs": [
    {
     "data": {
      "text/html": [
       "<div>\n",
       "<style scoped>\n",
       "    .dataframe tbody tr th:only-of-type {\n",
       "        vertical-align: middle;\n",
       "    }\n",
       "\n",
       "    .dataframe tbody tr th {\n",
       "        vertical-align: top;\n",
       "    }\n",
       "\n",
       "    .dataframe thead th {\n",
       "        text-align: right;\n",
       "    }\n",
       "</style>\n",
       "<table border=\"1\" class=\"dataframe\">\n",
       "  <thead>\n",
       "    <tr style=\"text-align: right;\">\n",
       "      <th></th>\n",
       "      <th>product_id</th>\n",
       "      <th>product_name</th>\n",
       "      <th>category</th>\n",
       "      <th>actual_price</th>\n",
       "      <th>rating</th>\n",
       "      <th>rating_count</th>\n",
       "      <th>about_product</th>\n",
       "      <th>review_title</th>\n",
       "      <th>review_content</th>\n",
       "    </tr>\n",
       "  </thead>\n",
       "  <tbody>\n",
       "    <tr>\n",
       "      <th>0</th>\n",
       "      <td>B07JW9H4J1</td>\n",
       "      <td>Wayona Nylon Braided USB to Lightning Fast Cha...</td>\n",
       "      <td>Computers&amp;Accessories|Accessories&amp;Peripherals|...</td>\n",
       "      <td>₹1,099</td>\n",
       "      <td>4.2</td>\n",
       "      <td>24,269</td>\n",
       "      <td>High Compatibility : Compatible With iPhone 12...</td>\n",
       "      <td>Satisfied,Charging is really fast,Value for mo...</td>\n",
       "      <td>Looks durable Charging is fine tooNo complains...</td>\n",
       "    </tr>\n",
       "    <tr>\n",
       "      <th>1</th>\n",
       "      <td>B098NS6PVG</td>\n",
       "      <td>Ambrane Unbreakable 60W / 3A Fast Charging 1.5...</td>\n",
       "      <td>Computers&amp;Accessories|Accessories&amp;Peripherals|...</td>\n",
       "      <td>₹349</td>\n",
       "      <td>4.0</td>\n",
       "      <td>43,994</td>\n",
       "      <td>Compatible with all Type C enabled devices, be...</td>\n",
       "      <td>A Good Braided Cable for Your Type C Device,Go...</td>\n",
       "      <td>I ordered this cable to connect my phone to An...</td>\n",
       "    </tr>\n",
       "    <tr>\n",
       "      <th>2</th>\n",
       "      <td>B096MSW6CT</td>\n",
       "      <td>Sounce Fast Phone Charging Cable &amp; Data Sync U...</td>\n",
       "      <td>Computers&amp;Accessories|Accessories&amp;Peripherals|...</td>\n",
       "      <td>₹1,899</td>\n",
       "      <td>3.9</td>\n",
       "      <td>7,928</td>\n",
       "      <td>【 Fast Charger&amp; Data Sync】-With built-in safet...</td>\n",
       "      <td>Good speed for earlier versions,Good Product,W...</td>\n",
       "      <td>Not quite durable and sturdy,https://m.media-a...</td>\n",
       "    </tr>\n",
       "    <tr>\n",
       "      <th>3</th>\n",
       "      <td>B08HDJ86NZ</td>\n",
       "      <td>boAt Deuce USB 300 2 in 1 Type-C &amp; Micro USB S...</td>\n",
       "      <td>Computers&amp;Accessories|Accessories&amp;Peripherals|...</td>\n",
       "      <td>₹699</td>\n",
       "      <td>4.2</td>\n",
       "      <td>94,363</td>\n",
       "      <td>The boAt Deuce USB 300 2 in 1 cable is compati...</td>\n",
       "      <td>Good product,Good one,Nice,Really nice product...</td>\n",
       "      <td>Good product,long wire,Charges good,Nice,I bou...</td>\n",
       "    </tr>\n",
       "    <tr>\n",
       "      <th>4</th>\n",
       "      <td>B08CF3B7N1</td>\n",
       "      <td>Portronics Konnect L 1.2M Fast Charging 3A 8 P...</td>\n",
       "      <td>Computers&amp;Accessories|Accessories&amp;Peripherals|...</td>\n",
       "      <td>₹399</td>\n",
       "      <td>4.2</td>\n",
       "      <td>16,905</td>\n",
       "      <td>[CHARGE &amp; SYNC FUNCTION]- This cable comes wit...</td>\n",
       "      <td>As good as original,Decent,Good one for second...</td>\n",
       "      <td>Bought this instead of original apple, does th...</td>\n",
       "    </tr>\n",
       "  </tbody>\n",
       "</table>\n",
       "</div>"
      ],
      "text/plain": [
       "   product_id                                       product_name  \\\n",
       "0  B07JW9H4J1  Wayona Nylon Braided USB to Lightning Fast Cha...   \n",
       "1  B098NS6PVG  Ambrane Unbreakable 60W / 3A Fast Charging 1.5...   \n",
       "2  B096MSW6CT  Sounce Fast Phone Charging Cable & Data Sync U...   \n",
       "3  B08HDJ86NZ  boAt Deuce USB 300 2 in 1 Type-C & Micro USB S...   \n",
       "4  B08CF3B7N1  Portronics Konnect L 1.2M Fast Charging 3A 8 P...   \n",
       "\n",
       "                                            category actual_price rating  \\\n",
       "0  Computers&Accessories|Accessories&Peripherals|...       ₹1,099    4.2   \n",
       "1  Computers&Accessories|Accessories&Peripherals|...         ₹349    4.0   \n",
       "2  Computers&Accessories|Accessories&Peripherals|...       ₹1,899    3.9   \n",
       "3  Computers&Accessories|Accessories&Peripherals|...         ₹699    4.2   \n",
       "4  Computers&Accessories|Accessories&Peripherals|...         ₹399    4.2   \n",
       "\n",
       "  rating_count                                      about_product  \\\n",
       "0       24,269  High Compatibility : Compatible With iPhone 12...   \n",
       "1       43,994  Compatible with all Type C enabled devices, be...   \n",
       "2        7,928  【 Fast Charger& Data Sync】-With built-in safet...   \n",
       "3       94,363  The boAt Deuce USB 300 2 in 1 cable is compati...   \n",
       "4       16,905  [CHARGE & SYNC FUNCTION]- This cable comes wit...   \n",
       "\n",
       "                                        review_title  \\\n",
       "0  Satisfied,Charging is really fast,Value for mo...   \n",
       "1  A Good Braided Cable for Your Type C Device,Go...   \n",
       "2  Good speed for earlier versions,Good Product,W...   \n",
       "3  Good product,Good one,Nice,Really nice product...   \n",
       "4  As good as original,Decent,Good one for second...   \n",
       "\n",
       "                                      review_content  \n",
       "0  Looks durable Charging is fine tooNo complains...  \n",
       "1  I ordered this cable to connect my phone to An...  \n",
       "2  Not quite durable and sturdy,https://m.media-a...  \n",
       "3  Good product,long wire,Charges good,Nice,I bou...  \n",
       "4  Bought this instead of original apple, does th...  "
      ]
     },
     "execution_count": 12,
     "metadata": {},
     "output_type": "execute_result"
    }
   ],
   "source": [
    "# Keeping important columns for recommendation\n",
    "amazon_df = amazon_df[['product_id', 'product_name', 'category', 'actual_price', 'rating', 'rating_count', 'about_product', 'review_title', 'review_content']]\n",
    "amazon_df.head()"
   ]
  },
  {
   "cell_type": "markdown",
   "metadata": {},
   "source": [
    "### 2.2: Handling Null Values\n",
    "\n",
    " We've decided to drop the null values, since there's only one of them."
   ]
  },
  {
   "cell_type": "code",
   "execution_count": 13,
   "metadata": {},
   "outputs": [
    {
     "name": "stdout",
     "output_type": "stream",
     "text": [
      "The number of null values in the column \"rating\" is: 0\n"
     ]
    }
   ],
   "source": [
    "amazon_df.dropna(subset=['rating_count'], inplace=True)\n",
    "# Counting null values in the 'rating' column.\n",
    "valores_nulos = amazon_df['rating_count'].isnull().sum()\n",
    "\n",
    "print(f'The number of null values in the column \"rating\" is: {valores_nulos}')"
   ]
  },
  {
   "cell_type": "markdown",
   "metadata": {},
   "source": [
    "### 2.3 Handling Undesired Values"
   ]
  },
  {
   "cell_type": "markdown",
   "metadata": {},
   "source": [
    "We'll drop the row with '|' from the 'rating' column."
   ]
  },
  {
   "cell_type": "code",
   "execution_count": 14,
   "metadata": {},
   "outputs": [],
   "source": [
    "amazon_df = amazon_df[amazon_df['rating'] != '|']"
   ]
  },
  {
   "cell_type": "markdown",
   "metadata": {},
   "source": [
    "Let's replace '|' with commas in the 'category' column."
   ]
  },
  {
   "cell_type": "code",
   "execution_count": 15,
   "metadata": {},
   "outputs": [
    {
     "data": {
      "text/html": [
       "<div>\n",
       "<style scoped>\n",
       "    .dataframe tbody tr th:only-of-type {\n",
       "        vertical-align: middle;\n",
       "    }\n",
       "\n",
       "    .dataframe tbody tr th {\n",
       "        vertical-align: top;\n",
       "    }\n",
       "\n",
       "    .dataframe thead th {\n",
       "        text-align: right;\n",
       "    }\n",
       "</style>\n",
       "<table border=\"1\" class=\"dataframe\">\n",
       "  <thead>\n",
       "    <tr style=\"text-align: right;\">\n",
       "      <th></th>\n",
       "      <th>product_id</th>\n",
       "      <th>product_name</th>\n",
       "      <th>category</th>\n",
       "      <th>actual_price</th>\n",
       "      <th>rating</th>\n",
       "      <th>rating_count</th>\n",
       "      <th>about_product</th>\n",
       "      <th>review_title</th>\n",
       "      <th>review_content</th>\n",
       "    </tr>\n",
       "  </thead>\n",
       "  <tbody>\n",
       "    <tr>\n",
       "      <th>0</th>\n",
       "      <td>B07JW9H4J1</td>\n",
       "      <td>Wayona Nylon Braided USB to Lightning Fast Cha...</td>\n",
       "      <td>Computers&amp;Accessories,Accessories&amp;Peripherals,...</td>\n",
       "      <td>₹1,099</td>\n",
       "      <td>4.2</td>\n",
       "      <td>24,269</td>\n",
       "      <td>High Compatibility : Compatible With iPhone 12...</td>\n",
       "      <td>Satisfied,Charging is really fast,Value for mo...</td>\n",
       "      <td>Looks durable Charging is fine tooNo complains...</td>\n",
       "    </tr>\n",
       "    <tr>\n",
       "      <th>1</th>\n",
       "      <td>B098NS6PVG</td>\n",
       "      <td>Ambrane Unbreakable 60W / 3A Fast Charging 1.5...</td>\n",
       "      <td>Computers&amp;Accessories,Accessories&amp;Peripherals,...</td>\n",
       "      <td>₹349</td>\n",
       "      <td>4.0</td>\n",
       "      <td>43,994</td>\n",
       "      <td>Compatible with all Type C enabled devices, be...</td>\n",
       "      <td>A Good Braided Cable for Your Type C Device,Go...</td>\n",
       "      <td>I ordered this cable to connect my phone to An...</td>\n",
       "    </tr>\n",
       "    <tr>\n",
       "      <th>2</th>\n",
       "      <td>B096MSW6CT</td>\n",
       "      <td>Sounce Fast Phone Charging Cable &amp; Data Sync U...</td>\n",
       "      <td>Computers&amp;Accessories,Accessories&amp;Peripherals,...</td>\n",
       "      <td>₹1,899</td>\n",
       "      <td>3.9</td>\n",
       "      <td>7,928</td>\n",
       "      <td>【 Fast Charger&amp; Data Sync】-With built-in safet...</td>\n",
       "      <td>Good speed for earlier versions,Good Product,W...</td>\n",
       "      <td>Not quite durable and sturdy,https://m.media-a...</td>\n",
       "    </tr>\n",
       "    <tr>\n",
       "      <th>3</th>\n",
       "      <td>B08HDJ86NZ</td>\n",
       "      <td>boAt Deuce USB 300 2 in 1 Type-C &amp; Micro USB S...</td>\n",
       "      <td>Computers&amp;Accessories,Accessories&amp;Peripherals,...</td>\n",
       "      <td>₹699</td>\n",
       "      <td>4.2</td>\n",
       "      <td>94,363</td>\n",
       "      <td>The boAt Deuce USB 300 2 in 1 cable is compati...</td>\n",
       "      <td>Good product,Good one,Nice,Really nice product...</td>\n",
       "      <td>Good product,long wire,Charges good,Nice,I bou...</td>\n",
       "    </tr>\n",
       "    <tr>\n",
       "      <th>4</th>\n",
       "      <td>B08CF3B7N1</td>\n",
       "      <td>Portronics Konnect L 1.2M Fast Charging 3A 8 P...</td>\n",
       "      <td>Computers&amp;Accessories,Accessories&amp;Peripherals,...</td>\n",
       "      <td>₹399</td>\n",
       "      <td>4.2</td>\n",
       "      <td>16,905</td>\n",
       "      <td>[CHARGE &amp; SYNC FUNCTION]- This cable comes wit...</td>\n",
       "      <td>As good as original,Decent,Good one for second...</td>\n",
       "      <td>Bought this instead of original apple, does th...</td>\n",
       "    </tr>\n",
       "  </tbody>\n",
       "</table>\n",
       "</div>"
      ],
      "text/plain": [
       "   product_id                                       product_name  \\\n",
       "0  B07JW9H4J1  Wayona Nylon Braided USB to Lightning Fast Cha...   \n",
       "1  B098NS6PVG  Ambrane Unbreakable 60W / 3A Fast Charging 1.5...   \n",
       "2  B096MSW6CT  Sounce Fast Phone Charging Cable & Data Sync U...   \n",
       "3  B08HDJ86NZ  boAt Deuce USB 300 2 in 1 Type-C & Micro USB S...   \n",
       "4  B08CF3B7N1  Portronics Konnect L 1.2M Fast Charging 3A 8 P...   \n",
       "\n",
       "                                            category actual_price rating  \\\n",
       "0  Computers&Accessories,Accessories&Peripherals,...       ₹1,099    4.2   \n",
       "1  Computers&Accessories,Accessories&Peripherals,...         ₹349    4.0   \n",
       "2  Computers&Accessories,Accessories&Peripherals,...       ₹1,899    3.9   \n",
       "3  Computers&Accessories,Accessories&Peripherals,...         ₹699    4.2   \n",
       "4  Computers&Accessories,Accessories&Peripherals,...         ₹399    4.2   \n",
       "\n",
       "  rating_count                                      about_product  \\\n",
       "0       24,269  High Compatibility : Compatible With iPhone 12...   \n",
       "1       43,994  Compatible with all Type C enabled devices, be...   \n",
       "2        7,928  【 Fast Charger& Data Sync】-With built-in safet...   \n",
       "3       94,363  The boAt Deuce USB 300 2 in 1 cable is compati...   \n",
       "4       16,905  [CHARGE & SYNC FUNCTION]- This cable comes wit...   \n",
       "\n",
       "                                        review_title  \\\n",
       "0  Satisfied,Charging is really fast,Value for mo...   \n",
       "1  A Good Braided Cable for Your Type C Device,Go...   \n",
       "2  Good speed for earlier versions,Good Product,W...   \n",
       "3  Good product,Good one,Nice,Really nice product...   \n",
       "4  As good as original,Decent,Good one for second...   \n",
       "\n",
       "                                      review_content  \n",
       "0  Looks durable Charging is fine tooNo complains...  \n",
       "1  I ordered this cable to connect my phone to An...  \n",
       "2  Not quite durable and sturdy,https://m.media-a...  \n",
       "3  Good product,long wire,Charges good,Nice,I bou...  \n",
       "4  Bought this instead of original apple, does th...  "
      ]
     },
     "execution_count": 15,
     "metadata": {},
     "output_type": "execute_result"
    }
   ],
   "source": [
    "amazon_df['category'] = amazon_df['category'].str.replace('|', ',')\n",
    "\n",
    "amazon_df.head()"
   ]
  },
  {
   "cell_type": "markdown",
   "metadata": {},
   "source": [
    "### 2.4: Handling Columns Types\n",
    "\n",
    "Let's convert the 'rating' and 'rating_count' columns to float. Also, we'll remove the commas from our 'rating_count' column."
   ]
  },
  {
   "cell_type": "code",
   "execution_count": 16,
   "metadata": {},
   "outputs": [
    {
     "data": {
      "text/html": [
       "<div>\n",
       "<style scoped>\n",
       "    .dataframe tbody tr th:only-of-type {\n",
       "        vertical-align: middle;\n",
       "    }\n",
       "\n",
       "    .dataframe tbody tr th {\n",
       "        vertical-align: top;\n",
       "    }\n",
       "\n",
       "    .dataframe thead th {\n",
       "        text-align: right;\n",
       "    }\n",
       "</style>\n",
       "<table border=\"1\" class=\"dataframe\">\n",
       "  <thead>\n",
       "    <tr style=\"text-align: right;\">\n",
       "      <th></th>\n",
       "      <th>product_id</th>\n",
       "      <th>product_name</th>\n",
       "      <th>category</th>\n",
       "      <th>actual_price</th>\n",
       "      <th>rating</th>\n",
       "      <th>rating_count</th>\n",
       "      <th>about_product</th>\n",
       "      <th>review_title</th>\n",
       "      <th>review_content</th>\n",
       "    </tr>\n",
       "  </thead>\n",
       "  <tbody>\n",
       "    <tr>\n",
       "      <th>0</th>\n",
       "      <td>B07JW9H4J1</td>\n",
       "      <td>Wayona Nylon Braided USB to Lightning Fast Cha...</td>\n",
       "      <td>Computers&amp;Accessories,Accessories&amp;Peripherals,...</td>\n",
       "      <td>₹1,099</td>\n",
       "      <td>4.2</td>\n",
       "      <td>24269</td>\n",
       "      <td>High Compatibility : Compatible With iPhone 12...</td>\n",
       "      <td>Satisfied,Charging is really fast,Value for mo...</td>\n",
       "      <td>Looks durable Charging is fine tooNo complains...</td>\n",
       "    </tr>\n",
       "    <tr>\n",
       "      <th>1</th>\n",
       "      <td>B098NS6PVG</td>\n",
       "      <td>Ambrane Unbreakable 60W / 3A Fast Charging 1.5...</td>\n",
       "      <td>Computers&amp;Accessories,Accessories&amp;Peripherals,...</td>\n",
       "      <td>₹349</td>\n",
       "      <td>4.0</td>\n",
       "      <td>43994</td>\n",
       "      <td>Compatible with all Type C enabled devices, be...</td>\n",
       "      <td>A Good Braided Cable for Your Type C Device,Go...</td>\n",
       "      <td>I ordered this cable to connect my phone to An...</td>\n",
       "    </tr>\n",
       "    <tr>\n",
       "      <th>2</th>\n",
       "      <td>B096MSW6CT</td>\n",
       "      <td>Sounce Fast Phone Charging Cable &amp; Data Sync U...</td>\n",
       "      <td>Computers&amp;Accessories,Accessories&amp;Peripherals,...</td>\n",
       "      <td>₹1,899</td>\n",
       "      <td>3.9</td>\n",
       "      <td>7928</td>\n",
       "      <td>【 Fast Charger&amp; Data Sync】-With built-in safet...</td>\n",
       "      <td>Good speed for earlier versions,Good Product,W...</td>\n",
       "      <td>Not quite durable and sturdy,https://m.media-a...</td>\n",
       "    </tr>\n",
       "    <tr>\n",
       "      <th>3</th>\n",
       "      <td>B08HDJ86NZ</td>\n",
       "      <td>boAt Deuce USB 300 2 in 1 Type-C &amp; Micro USB S...</td>\n",
       "      <td>Computers&amp;Accessories,Accessories&amp;Peripherals,...</td>\n",
       "      <td>₹699</td>\n",
       "      <td>4.2</td>\n",
       "      <td>94363</td>\n",
       "      <td>The boAt Deuce USB 300 2 in 1 cable is compati...</td>\n",
       "      <td>Good product,Good one,Nice,Really nice product...</td>\n",
       "      <td>Good product,long wire,Charges good,Nice,I bou...</td>\n",
       "    </tr>\n",
       "    <tr>\n",
       "      <th>4</th>\n",
       "      <td>B08CF3B7N1</td>\n",
       "      <td>Portronics Konnect L 1.2M Fast Charging 3A 8 P...</td>\n",
       "      <td>Computers&amp;Accessories,Accessories&amp;Peripherals,...</td>\n",
       "      <td>₹399</td>\n",
       "      <td>4.2</td>\n",
       "      <td>16905</td>\n",
       "      <td>[CHARGE &amp; SYNC FUNCTION]- This cable comes wit...</td>\n",
       "      <td>As good as original,Decent,Good one for second...</td>\n",
       "      <td>Bought this instead of original apple, does th...</td>\n",
       "    </tr>\n",
       "  </tbody>\n",
       "</table>\n",
       "</div>"
      ],
      "text/plain": [
       "   product_id                                       product_name  \\\n",
       "0  B07JW9H4J1  Wayona Nylon Braided USB to Lightning Fast Cha...   \n",
       "1  B098NS6PVG  Ambrane Unbreakable 60W / 3A Fast Charging 1.5...   \n",
       "2  B096MSW6CT  Sounce Fast Phone Charging Cable & Data Sync U...   \n",
       "3  B08HDJ86NZ  boAt Deuce USB 300 2 in 1 Type-C & Micro USB S...   \n",
       "4  B08CF3B7N1  Portronics Konnect L 1.2M Fast Charging 3A 8 P...   \n",
       "\n",
       "                                            category actual_price rating  \\\n",
       "0  Computers&Accessories,Accessories&Peripherals,...       ₹1,099    4.2   \n",
       "1  Computers&Accessories,Accessories&Peripherals,...         ₹349    4.0   \n",
       "2  Computers&Accessories,Accessories&Peripherals,...       ₹1,899    3.9   \n",
       "3  Computers&Accessories,Accessories&Peripherals,...         ₹699    4.2   \n",
       "4  Computers&Accessories,Accessories&Peripherals,...         ₹399    4.2   \n",
       "\n",
       "  rating_count                                      about_product  \\\n",
       "0        24269  High Compatibility : Compatible With iPhone 12...   \n",
       "1        43994  Compatible with all Type C enabled devices, be...   \n",
       "2         7928  【 Fast Charger& Data Sync】-With built-in safet...   \n",
       "3        94363  The boAt Deuce USB 300 2 in 1 cable is compati...   \n",
       "4        16905  [CHARGE & SYNC FUNCTION]- This cable comes wit...   \n",
       "\n",
       "                                        review_title  \\\n",
       "0  Satisfied,Charging is really fast,Value for mo...   \n",
       "1  A Good Braided Cable for Your Type C Device,Go...   \n",
       "2  Good speed for earlier versions,Good Product,W...   \n",
       "3  Good product,Good one,Nice,Really nice product...   \n",
       "4  As good as original,Decent,Good one for second...   \n",
       "\n",
       "                                      review_content  \n",
       "0  Looks durable Charging is fine tooNo complains...  \n",
       "1  I ordered this cable to connect my phone to An...  \n",
       "2  Not quite durable and sturdy,https://m.media-a...  \n",
       "3  Good product,long wire,Charges good,Nice,I bou...  \n",
       "4  Bought this instead of original apple, does th...  "
      ]
     },
     "execution_count": 16,
     "metadata": {},
     "output_type": "execute_result"
    }
   ],
   "source": [
    "# Converting 'rating' to float\n",
    "amazon_df['rating'] = amazon_df['rating']\n",
    "\n",
    "# Replacing commas and converting 'rating_count' to float\n",
    "amazon_df['rating_count'] = amazon_df['rating_count'].replace(',', '', regex=True)\n",
    "amazon_df.head()"
   ]
  },
  {
   "cell_type": "code",
   "execution_count": 17,
   "metadata": {},
   "outputs": [
    {
     "data": {
      "text/plain": [
       "product_id        object\n",
       "product_name      object\n",
       "category          object\n",
       "actual_price      object\n",
       "rating            object\n",
       "rating_count      object\n",
       "about_product     object\n",
       "review_title      object\n",
       "review_content    object\n",
       "dtype: object"
      ]
     },
     "execution_count": 17,
     "metadata": {},
     "output_type": "execute_result"
    }
   ],
   "source": [
    "amazon_df.dtypes"
   ]
  },
  {
   "cell_type": "markdown",
   "metadata": {},
   "source": [
    "### 2.5: Tags Generation\n",
    "\n",
    "In this section, we generate tags for each product by combining relevant information such as product_name, category, actual_price, rating, rating_count, about_product, review_title, and review_content. \n",
    "\n",
    "This process creates a comprehensive representation of each product's attributes, which will be used in the recommendation system."
   ]
  },
  {
   "cell_type": "code",
   "execution_count": 18,
   "metadata": {},
   "outputs": [
    {
     "data": {
      "text/html": [
       "<div>\n",
       "<style scoped>\n",
       "    .dataframe tbody tr th:only-of-type {\n",
       "        vertical-align: middle;\n",
       "    }\n",
       "\n",
       "    .dataframe tbody tr th {\n",
       "        vertical-align: top;\n",
       "    }\n",
       "\n",
       "    .dataframe thead th {\n",
       "        text-align: right;\n",
       "    }\n",
       "</style>\n",
       "<table border=\"1\" class=\"dataframe\">\n",
       "  <thead>\n",
       "    <tr style=\"text-align: right;\">\n",
       "      <th></th>\n",
       "      <th>product_id</th>\n",
       "      <th>product_name</th>\n",
       "      <th>category</th>\n",
       "      <th>actual_price</th>\n",
       "      <th>rating</th>\n",
       "      <th>rating_count</th>\n",
       "      <th>about_product</th>\n",
       "      <th>review_title</th>\n",
       "      <th>review_content</th>\n",
       "      <th>tags</th>\n",
       "    </tr>\n",
       "  </thead>\n",
       "  <tbody>\n",
       "    <tr>\n",
       "      <th>0</th>\n",
       "      <td>B07JW9H4J1</td>\n",
       "      <td>Wayona Nylon Braided USB to Lightning Fast Cha...</td>\n",
       "      <td>Computers&amp;Accessories,Accessories&amp;Peripherals,...</td>\n",
       "      <td>₹1,099</td>\n",
       "      <td>4.2</td>\n",
       "      <td>24269</td>\n",
       "      <td>High Compatibility : Compatible With iPhone 12...</td>\n",
       "      <td>Satisfied,Charging is really fast,Value for mo...</td>\n",
       "      <td>Looks durable Charging is fine tooNo complains...</td>\n",
       "      <td>Wayona Nylon Braided USB to Lightning Fast Cha...</td>\n",
       "    </tr>\n",
       "    <tr>\n",
       "      <th>1</th>\n",
       "      <td>B098NS6PVG</td>\n",
       "      <td>Ambrane Unbreakable 60W / 3A Fast Charging 1.5...</td>\n",
       "      <td>Computers&amp;Accessories,Accessories&amp;Peripherals,...</td>\n",
       "      <td>₹349</td>\n",
       "      <td>4.0</td>\n",
       "      <td>43994</td>\n",
       "      <td>Compatible with all Type C enabled devices, be...</td>\n",
       "      <td>A Good Braided Cable for Your Type C Device,Go...</td>\n",
       "      <td>I ordered this cable to connect my phone to An...</td>\n",
       "      <td>Ambrane Unbreakable 60W / 3A Fast Charging 1.5...</td>\n",
       "    </tr>\n",
       "    <tr>\n",
       "      <th>2</th>\n",
       "      <td>B096MSW6CT</td>\n",
       "      <td>Sounce Fast Phone Charging Cable &amp; Data Sync U...</td>\n",
       "      <td>Computers&amp;Accessories,Accessories&amp;Peripherals,...</td>\n",
       "      <td>₹1,899</td>\n",
       "      <td>3.9</td>\n",
       "      <td>7928</td>\n",
       "      <td>【 Fast Charger&amp; Data Sync】-With built-in safet...</td>\n",
       "      <td>Good speed for earlier versions,Good Product,W...</td>\n",
       "      <td>Not quite durable and sturdy,https://m.media-a...</td>\n",
       "      <td>Sounce Fast Phone Charging Cable &amp; Data Sync U...</td>\n",
       "    </tr>\n",
       "    <tr>\n",
       "      <th>3</th>\n",
       "      <td>B08HDJ86NZ</td>\n",
       "      <td>boAt Deuce USB 300 2 in 1 Type-C &amp; Micro USB S...</td>\n",
       "      <td>Computers&amp;Accessories,Accessories&amp;Peripherals,...</td>\n",
       "      <td>₹699</td>\n",
       "      <td>4.2</td>\n",
       "      <td>94363</td>\n",
       "      <td>The boAt Deuce USB 300 2 in 1 cable is compati...</td>\n",
       "      <td>Good product,Good one,Nice,Really nice product...</td>\n",
       "      <td>Good product,long wire,Charges good,Nice,I bou...</td>\n",
       "      <td>boAt Deuce USB 300 2 in 1 Type-C &amp; Micro USB S...</td>\n",
       "    </tr>\n",
       "    <tr>\n",
       "      <th>4</th>\n",
       "      <td>B08CF3B7N1</td>\n",
       "      <td>Portronics Konnect L 1.2M Fast Charging 3A 8 P...</td>\n",
       "      <td>Computers&amp;Accessories,Accessories&amp;Peripherals,...</td>\n",
       "      <td>₹399</td>\n",
       "      <td>4.2</td>\n",
       "      <td>16905</td>\n",
       "      <td>[CHARGE &amp; SYNC FUNCTION]- This cable comes wit...</td>\n",
       "      <td>As good as original,Decent,Good one for second...</td>\n",
       "      <td>Bought this instead of original apple, does th...</td>\n",
       "      <td>Portronics Konnect L 1.2M Fast Charging 3A 8 P...</td>\n",
       "    </tr>\n",
       "  </tbody>\n",
       "</table>\n",
       "</div>"
      ],
      "text/plain": [
       "   product_id                                       product_name  \\\n",
       "0  B07JW9H4J1  Wayona Nylon Braided USB to Lightning Fast Cha...   \n",
       "1  B098NS6PVG  Ambrane Unbreakable 60W / 3A Fast Charging 1.5...   \n",
       "2  B096MSW6CT  Sounce Fast Phone Charging Cable & Data Sync U...   \n",
       "3  B08HDJ86NZ  boAt Deuce USB 300 2 in 1 Type-C & Micro USB S...   \n",
       "4  B08CF3B7N1  Portronics Konnect L 1.2M Fast Charging 3A 8 P...   \n",
       "\n",
       "                                            category actual_price rating  \\\n",
       "0  Computers&Accessories,Accessories&Peripherals,...       ₹1,099    4.2   \n",
       "1  Computers&Accessories,Accessories&Peripherals,...         ₹349    4.0   \n",
       "2  Computers&Accessories,Accessories&Peripherals,...       ₹1,899    3.9   \n",
       "3  Computers&Accessories,Accessories&Peripherals,...         ₹699    4.2   \n",
       "4  Computers&Accessories,Accessories&Peripherals,...         ₹399    4.2   \n",
       "\n",
       "  rating_count                                      about_product  \\\n",
       "0        24269  High Compatibility : Compatible With iPhone 12...   \n",
       "1        43994  Compatible with all Type C enabled devices, be...   \n",
       "2         7928  【 Fast Charger& Data Sync】-With built-in safet...   \n",
       "3        94363  The boAt Deuce USB 300 2 in 1 cable is compati...   \n",
       "4        16905  [CHARGE & SYNC FUNCTION]- This cable comes wit...   \n",
       "\n",
       "                                        review_title  \\\n",
       "0  Satisfied,Charging is really fast,Value for mo...   \n",
       "1  A Good Braided Cable for Your Type C Device,Go...   \n",
       "2  Good speed for earlier versions,Good Product,W...   \n",
       "3  Good product,Good one,Nice,Really nice product...   \n",
       "4  As good as original,Decent,Good one for second...   \n",
       "\n",
       "                                      review_content  \\\n",
       "0  Looks durable Charging is fine tooNo complains...   \n",
       "1  I ordered this cable to connect my phone to An...   \n",
       "2  Not quite durable and sturdy,https://m.media-a...   \n",
       "3  Good product,long wire,Charges good,Nice,I bou...   \n",
       "4  Bought this instead of original apple, does th...   \n",
       "\n",
       "                                                tags  \n",
       "0  Wayona Nylon Braided USB to Lightning Fast Cha...  \n",
       "1  Ambrane Unbreakable 60W / 3A Fast Charging 1.5...  \n",
       "2  Sounce Fast Phone Charging Cable & Data Sync U...  \n",
       "3  boAt Deuce USB 300 2 in 1 Type-C & Micro USB S...  \n",
       "4  Portronics Konnect L 1.2M Fast Charging 3A 8 P...  "
      ]
     },
     "execution_count": 18,
     "metadata": {},
     "output_type": "execute_result"
    }
   ],
   "source": [
    "# Concatenate all\n",
    "amazon_df['tags'] = amazon_df['product_name'] + \" \" + amazon_df['category'] + \" \"  + amazon_df['actual_price'] + \" \"  + amazon_df['rating'] + \" \" + amazon_df['rating_count'] + \" \" + amazon_df['about_product']+ \" \" + amazon_df['review_title']+ \" \" + amazon_df['review_content']\n",
    "\n",
    "amazon_df.head()"
   ]
  },
  {
   "cell_type": "code",
   "execution_count": 19,
   "metadata": {},
   "outputs": [
    {
     "data": {
      "text/plain": [
       "\"Wayona Nylon Braided USB to Lightning Fast Charging and Data Sync Cable Compatible for iPhone 13  12 11  X  8  7  6  5  iPad Air  Pro  Mini (3 FT Pack of 1  Grey) Computers&Accessories Accessories&Peripherals Cables&Accessories Cables USBCables ₹1 099 4.2 24269 High Compatibility : Compatible With iPhone 12  11  X/XsMax/Xr  iPhone 8/8 Plus iPhone 7/7 Plus iPhone 6s/6s Plus iPhone 6/6 Plus iPhone 5/5s/5c/se iPad Pro iPad Air 1/2 iPad mini 1/2/3 iPod nano7 iPod touch and more apple devices.|Fast Charge&Data Sync : It can charge and sync simultaneously at a rapid speed  Compatible with any charging adaptor  multi-port charging station or power bank.|Durability : Durable nylon braided design with premium aluminum housing and toughened nylon fiber wound tightly around the cord lending it superior durability and adding a bit to its flexibility.|High Security Level : It is designed to fully protect your device from damaging excessive current.Copper core thick+Multilayer shielding  Anti-interference  Protective circuit equipment.|WARRANTY: 12 months warranty and friendly customer services  ensures the long-time enjoyment of your purchase. If you meet any question or problem  please don't hesitate to contact us. Satisfied Charging is really fast Value for money Product review Good quality Good product Good Product As of now seems good Looks durable Charging is fine tooNo complains Charging is really fast  good product. Till now satisfied with the quality. This is a good product . The charging speed is slower than the original iPhone cable Good quality  would recommend https://m.media-amazon.com/images/W/WEBP_402378-T1/images/I/81---F1ZgHL._SY88.jpg Product had worked well till date and was having no issue.Cable is also sturdy enough...Have asked for replacement and company is doing the same... Value for money\""
      ]
     },
     "execution_count": 19,
     "metadata": {},
     "output_type": "execute_result"
    }
   ],
   "source": [
    "# Check and handle null values\n",
    "amazon_df['tags'] = amazon_df['tags'].fillna('')  # Substitui NaN por string vazia\n",
    "\n",
    "# Now, replace commas with spaces\n",
    "amazon_df['tags'] = amazon_df['tags'].str.replace(',', ' ')\n",
    "\n",
    "amazon_df['tags'][0]"
   ]
  },
  {
   "cell_type": "markdown",
   "metadata": {},
   "source": [
    "### 2.6 Handling 'http' Tags\n",
    "\n",
    "In this part of the project, we're checking how many tags contain 'http' in an Amazon dataset. We're also cleaning up the tags by removing any words starting with 'http'. This helps prepare the data for analysis.\n",
    "\n",
    "These tags contain hyperlinks that are irrelevant to our tags."
   ]
  },
  {
   "cell_type": "code",
   "execution_count": 20,
   "metadata": {},
   "outputs": [
    {
     "name": "stdout",
     "output_type": "stream",
     "text": [
      "Number of tags containing 'http': 233\n"
     ]
    }
   ],
   "source": [
    "# Initialize a variable to count the number of tags containing 'http'\n",
    "http_tags_count = 0\n",
    "\n",
    "# Iterate over all rows in the 'tags' column\n",
    "for tag in amazon_df['tags']:\n",
    "    # Check if 'http' is present in the tag\n",
    "    if 'http' in tag:\n",
    "        # Increment the count\n",
    "        http_tags_count += 1\n",
    "\n",
    "# Show the number of tags containing 'http'\n",
    "print(\"Number of tags containing 'http':\", http_tags_count)"
   ]
  },
  {
   "cell_type": "code",
   "execution_count": 21,
   "metadata": {},
   "outputs": [
    {
     "name": "stdout",
     "output_type": "stream",
     "text": [
      "Tags após a remoção de 'http' no início na primeira linha:\n",
      "Wayona Nylon Braided USB to Lightning Fast Charging and Data Sync Cable Compatible for iPhone 13 12 11 X 8 7 6 5 iPad Air Pro Mini (3 FT Pack of 1 Grey) Computers&Accessories Accessories&Peripherals Cables&Accessories Cables USBCables ₹1 099 4.2 24269 High Compatibility : Compatible With iPhone 12 11 X/XsMax/Xr iPhone 8/8 Plus iPhone 7/7 Plus iPhone 6s/6s Plus iPhone 6/6 Plus iPhone 5/5s/5c/se iPad Pro iPad Air 1/2 iPad mini 1/2/3 iPod nano7 iPod touch and more apple devices.|Fast Charge&Data Sync : It can charge and sync simultaneously at a rapid speed Compatible with any charging adaptor multi-port charging station or power bank.|Durability : Durable nylon braided design with premium aluminum housing and toughened nylon fiber wound tightly around the cord lending it superior durability and adding a bit to its flexibility.|High Security Level : It is designed to fully protect your device from damaging excessive current.Copper core thick+Multilayer shielding Anti-interference Protective circuit equipment.|WARRANTY: 12 months warranty and friendly customer services ensures the long-time enjoyment of your purchase. If you meet any question or problem please don't hesitate to contact us. Satisfied Charging is really fast Value for money Product review Good quality Good product Good Product As of now seems good Looks durable Charging is fine tooNo complains Charging is really fast good product. Till now satisfied with the quality. This is a good product . The charging speed is slower than the original iPhone cable Good quality would recommend Product had worked well till date and was having no issue.Cable is also sturdy enough...Have asked for replacement and company is doing the same... Value for money\n"
     ]
    }
   ],
   "source": [
    "# Dividir a string da coluna 'tags' em palavras\n",
    "tags_split = amazon_df['tags'].str.split()\n",
    "\n",
    "# Remover a palavra que começa com 'http' em cada lista de palavras\n",
    "tags_split = tags_split.apply(lambda x: [word for word in x if not word.startswith('http')])\n",
    "\n",
    "# Juntar as palavras de volta em uma única string\n",
    "amazon_df['tags'] = tags_split.str.join(' ')\n",
    "\n",
    "# Verificar a alteração na primeira linha\n",
    "print(\"Tags após a remoção de 'http' no início na primeira linha:\")\n",
    "print(amazon_df['tags'][0])"
   ]
  },
  {
   "cell_type": "code",
   "execution_count": 22,
   "metadata": {},
   "outputs": [
    {
     "data": {
      "text/html": [
       "<div>\n",
       "<style scoped>\n",
       "    .dataframe tbody tr th:only-of-type {\n",
       "        vertical-align: middle;\n",
       "    }\n",
       "\n",
       "    .dataframe tbody tr th {\n",
       "        vertical-align: top;\n",
       "    }\n",
       "\n",
       "    .dataframe thead th {\n",
       "        text-align: right;\n",
       "    }\n",
       "</style>\n",
       "<table border=\"1\" class=\"dataframe\">\n",
       "  <thead>\n",
       "    <tr style=\"text-align: right;\">\n",
       "      <th></th>\n",
       "      <th>product_id</th>\n",
       "      <th>product_name</th>\n",
       "      <th>tags</th>\n",
       "    </tr>\n",
       "  </thead>\n",
       "  <tbody>\n",
       "    <tr>\n",
       "      <th>0</th>\n",
       "      <td>B07JW9H4J1</td>\n",
       "      <td>Wayona Nylon Braided USB to Lightning Fast Cha...</td>\n",
       "      <td>Wayona Nylon Braided USB to Lightning Fast Cha...</td>\n",
       "    </tr>\n",
       "    <tr>\n",
       "      <th>1</th>\n",
       "      <td>B098NS6PVG</td>\n",
       "      <td>Ambrane Unbreakable 60W / 3A Fast Charging 1.5...</td>\n",
       "      <td>Ambrane Unbreakable 60W / 3A Fast Charging 1.5...</td>\n",
       "    </tr>\n",
       "    <tr>\n",
       "      <th>2</th>\n",
       "      <td>B096MSW6CT</td>\n",
       "      <td>Sounce Fast Phone Charging Cable &amp; Data Sync U...</td>\n",
       "      <td>Sounce Fast Phone Charging Cable &amp; Data Sync U...</td>\n",
       "    </tr>\n",
       "    <tr>\n",
       "      <th>3</th>\n",
       "      <td>B08HDJ86NZ</td>\n",
       "      <td>boAt Deuce USB 300 2 in 1 Type-C &amp; Micro USB S...</td>\n",
       "      <td>boAt Deuce USB 300 2 in 1 Type-C &amp; Micro USB S...</td>\n",
       "    </tr>\n",
       "    <tr>\n",
       "      <th>4</th>\n",
       "      <td>B08CF3B7N1</td>\n",
       "      <td>Portronics Konnect L 1.2M Fast Charging 3A 8 P...</td>\n",
       "      <td>Portronics Konnect L 1.2M Fast Charging 3A 8 P...</td>\n",
       "    </tr>\n",
       "  </tbody>\n",
       "</table>\n",
       "</div>"
      ],
      "text/plain": [
       "   product_id                                       product_name  \\\n",
       "0  B07JW9H4J1  Wayona Nylon Braided USB to Lightning Fast Cha...   \n",
       "1  B098NS6PVG  Ambrane Unbreakable 60W / 3A Fast Charging 1.5...   \n",
       "2  B096MSW6CT  Sounce Fast Phone Charging Cable & Data Sync U...   \n",
       "3  B08HDJ86NZ  boAt Deuce USB 300 2 in 1 Type-C & Micro USB S...   \n",
       "4  B08CF3B7N1  Portronics Konnect L 1.2M Fast Charging 3A 8 P...   \n",
       "\n",
       "                                                tags  \n",
       "0  Wayona Nylon Braided USB to Lightning Fast Cha...  \n",
       "1  Ambrane Unbreakable 60W / 3A Fast Charging 1.5...  \n",
       "2  Sounce Fast Phone Charging Cable & Data Sync U...  \n",
       "3  boAt Deuce USB 300 2 in 1 Type-C & Micro USB S...  \n",
       "4  Portronics Konnect L 1.2M Fast Charging 3A 8 P...  "
      ]
     },
     "execution_count": 22,
     "metadata": {},
     "output_type": "execute_result"
    }
   ],
   "source": [
    "# Droping those extra columns\n",
    "amazon_df = amazon_df[['product_id','product_name', 'tags']]\n",
    "amazon_df.head()"
   ]
  },
  {
   "cell_type": "markdown",
   "metadata": {},
   "source": [
    "# Chapter 3: Building Recommendation Model"
   ]
  },
  {
   "cell_type": "markdown",
   "metadata": {},
   "source": [
    "### 3.1 Stop Words\n",
    "\n",
    "We'll download and load the English stop words list using the Natural Language Toolkit (NLTK). The stop words are then used to create a function called 'remover_stop_words' that removes stop words from the 'tags' column in the DataFrame.\n",
    "\n",
    " This step helps in preprocessing the text data by removing common words that do not contribute significantly to the meaning of the text."
   ]
  },
  {
   "cell_type": "code",
   "execution_count": 23,
   "metadata": {},
   "outputs": [
    {
     "data": {
      "text/plain": [
       "\"Wayona Nylon Braided USB to Lightning Fast Charging and Data Sync Cable Compatible for iPhone 13 12 11 X 8 7 6 5 iPad Air Pro Mini (3 FT Pack of 1 Grey) Computers&Accessories Accessories&Peripherals Cables&Accessories Cables USBCables ₹1 099 4.2 24269 High Compatibility : Compatible With iPhone 12 11 X/XsMax/Xr iPhone 8/8 Plus iPhone 7/7 Plus iPhone 6s/6s Plus iPhone 6/6 Plus iPhone 5/5s/5c/se iPad Pro iPad Air 1/2 iPad mini 1/2/3 iPod nano7 iPod touch and more apple devices.|Fast Charge&Data Sync : It can charge and sync simultaneously at a rapid speed Compatible with any charging adaptor multi-port charging station or power bank.|Durability : Durable nylon braided design with premium aluminum housing and toughened nylon fiber wound tightly around the cord lending it superior durability and adding a bit to its flexibility.|High Security Level : It is designed to fully protect your device from damaging excessive current.Copper core thick+Multilayer shielding Anti-interference Protective circuit equipment.|WARRANTY: 12 months warranty and friendly customer services ensures the long-time enjoyment of your purchase. If you meet any question or problem please don't hesitate to contact us. Satisfied Charging is really fast Value for money Product review Good quality Good product Good Product As of now seems good Looks durable Charging is fine tooNo complains Charging is really fast good product. Till now satisfied with the quality. This is a good product . The charging speed is slower than the original iPhone cable Good quality would recommend Product had worked well till date and was having no issue.Cable is also sturdy enough...Have asked for replacement and company is doing the same... Value for money\""
      ]
     },
     "execution_count": 23,
     "metadata": {},
     "output_type": "execute_result"
    }
   ],
   "source": [
    "amazon_df['tags'][0]"
   ]
  },
  {
   "cell_type": "code",
   "execution_count": 24,
   "metadata": {},
   "outputs": [
    {
     "name": "stderr",
     "output_type": "stream",
     "text": [
      "[nltk_data] Downloading package stopwords to\n",
      "[nltk_data]     C:\\Users\\yamas\\AppData\\Roaming\\nltk_data...\n",
      "[nltk_data]   Package stopwords is already up-to-date!\n"
     ]
    }
   ],
   "source": [
    "import nltk\n",
    "from nltk.corpus import stopwords\n",
    "\n",
    "# Baixando a lista de stop words em inglês\n",
    "nltk.download('stopwords')\n",
    "\n",
    "# Carregando as stop words em inglês\n",
    "stop_words = set(stopwords.words('english'))\n",
    "\n",
    "# Supondo que 'disney_df' é o seu DataFrame com a coluna 'tags'\n",
    "\n",
    "# Função para remover stop words\n",
    "def remover_stop_words(tags):\n",
    "    # Verificar se 'tags' é uma string\n",
    "    if isinstance(tags, str):\n",
    "        # Remover stop words\n",
    "        return ' '.join([word for word in tags.split() if word.lower() not in stop_words])\n",
    "    else:\n",
    "        return tags  # Retorna o valor original se não for uma string"
   ]
  },
  {
   "cell_type": "code",
   "execution_count": 25,
   "metadata": {},
   "outputs": [
    {
     "data": {
      "text/plain": [
       "'Wayona Nylon Braided USB Lightning Fast Charging Data Sync Cable Compatible iPhone 13 12 11 X 8 7 6 5 iPad Air Pro Mini (3 FT Pack 1 Grey) Computers&Accessories Accessories&Peripherals Cables&Accessories Cables USBCables ₹1 099 4.2 24269 High Compatibility : Compatible iPhone 12 11 X/XsMax/Xr iPhone 8/8 Plus iPhone 7/7 Plus iPhone 6s/6s Plus iPhone 6/6 Plus iPhone 5/5s/5c/se iPad Pro iPad Air 1/2 iPad mini 1/2/3 iPod nano7 iPod touch apple devices.|Fast Charge&Data Sync : charge sync simultaneously rapid speed Compatible charging adaptor multi-port charging station power bank.|Durability : Durable nylon braided design premium aluminum housing toughened nylon fiber wound tightly around cord lending superior durability adding bit flexibility.|High Security Level : designed fully protect device damaging excessive current.Copper core thick+Multilayer shielding Anti-interference Protective circuit equipment.|WARRANTY: 12 months warranty friendly customer services ensures long-time enjoyment purchase. meet question problem please hesitate contact us. Satisfied Charging really fast Value money Product review Good quality Good product Good Product seems good Looks durable Charging fine tooNo complains Charging really fast good product. Till satisfied quality. good product . charging speed slower original iPhone cable Good quality would recommend Product worked well till date issue.Cable also sturdy enough...Have asked replacement company same... Value money'"
      ]
     },
     "execution_count": 25,
     "metadata": {},
     "output_type": "execute_result"
    }
   ],
   "source": [
    "# Aplicando a função à coluna 'tags' usando uma expressão lambda\n",
    "amazon_df['tags'] = amazon_df['tags'].apply(lambda x: remover_stop_words(x))\n",
    "amazon_df['tags'][0]"
   ]
  },
  {
   "cell_type": "markdown",
   "metadata": {},
   "source": [
    "### 3.2: Stemming\n",
    "\n",
    "We are going to perform the stemming process on our tags\n",
    "\n",
    "- Stemming is the process of reducing words to their root or base form, even if the result is not a valid word. This helps to group together words with similar meanings. For example, \"running,\" \"runs,\" and \"runner\" would all be stemmed to \"run.\""
   ]
  },
  {
   "cell_type": "code",
   "execution_count": 26,
   "metadata": {},
   "outputs": [],
   "source": [
    "import nltk\n",
    "from nltk.stem import PorterStemmer\n",
    "\n",
    "ps = PorterStemmer()\n",
    "\n",
    "def stems(text):\n",
    "    T = []\n",
    "    \n",
    "    for i in text.split():\n",
    "        T.append(ps.stem(i))\n",
    "    \n",
    "    return \" \".join(T)"
   ]
  },
  {
   "cell_type": "code",
   "execution_count": 27,
   "metadata": {},
   "outputs": [
    {
     "data": {
      "text/plain": [
       "'wayona nylon braid usb lightn fast charg data sync cabl compat iphon 13 12 11 x 8 7 6 5 ipad air pro mini (3 ft pack 1 grey) computers&accessori accessories&peripher cables&accessori cabl usbcabl ₹1 099 4.2 24269 high compat : compat iphon 12 11 x/xsmax/xr iphon 8/8 plu iphon 7/7 plu iphon 6s/6 plu iphon 6/6 plu iphon 5/5s/5c/se ipad pro ipad air 1/2 ipad mini 1/2/3 ipod nano7 ipod touch appl devices.|fast charge&data sync : charg sync simultan rapid speed compat charg adaptor multi-port charg station power bank.|dur : durabl nylon braid design premium aluminum hous toughen nylon fiber wound tightli around cord lend superior durabl ad bit flexibility.|high secur level : design fulli protect devic damag excess current.copp core thick+multilay shield anti-interfer protect circuit equipment.|warranty: 12 month warranti friendli custom servic ensur long-tim enjoy purchase. meet question problem pleas hesit contact us. satisfi charg realli fast valu money product review good qualiti good product good product seem good look durabl charg fine toono complain charg realli fast good product. till satisfi quality. good product . charg speed slower origin iphon cabl good qualiti would recommend product work well till date issue.c also sturdi enough...hav ask replac compani same... valu money'"
      ]
     },
     "execution_count": 27,
     "metadata": {},
     "output_type": "execute_result"
    }
   ],
   "source": [
    "# Apply the function to non-null values\n",
    "amazon_df['tags'] = amazon_df['tags'].apply(lambda x: stems(x) if isinstance(x, str) else x)\n",
    "amazon_df['tags'][0]\n"
   ]
  },
  {
   "cell_type": "code",
   "execution_count": 28,
   "metadata": {},
   "outputs": [
    {
     "data": {
      "text/plain": [
       "203"
      ]
     },
     "execution_count": 28,
     "metadata": {},
     "output_type": "execute_result"
    }
   ],
   "source": [
    "# Assuming you want to count the number of words in the first row (index 0) of the 'tags' column\n",
    "numero_de_palavras = len(amazon_df['tags'][0].split())\n",
    "\n",
    "# Display the result\n",
    "numero_de_palavras"
   ]
  },
  {
   "cell_type": "markdown",
   "metadata": {},
   "source": [
    "### 3.3: Count Vectorizer\n",
    "\n",
    "We're about to apply CountVectorizer to our tags, converting them into numerical representations for analysis.\n",
    "\n",
    "- CountVectorizer is a method used for converting a collection of text documents into a matrix of token counts. It essentially converts text data into numerical data that can be used by machine learning algorithms."
   ]
  },
  {
   "cell_type": "code",
   "execution_count": 29,
   "metadata": {},
   "outputs": [
    {
     "data": {
      "text/plain": [
       "array([0, 0, 0, ..., 0, 0, 0], dtype=int64)"
      ]
     },
     "execution_count": 29,
     "metadata": {},
     "output_type": "execute_result"
    }
   ],
   "source": [
    "from sklearn.feature_extraction.text import CountVectorizer\n",
    "\n",
    "cv = CountVectorizer(max_features=5000,stop_words='english')\n",
    "\n",
    "vector = cv.fit_transform(amazon_df['tags']).toarray()\n",
    "vector[0]"
   ]
  },
  {
   "cell_type": "code",
   "execution_count": 30,
   "metadata": {},
   "outputs": [
    {
     "data": {
      "text/plain": [
       "(1462, 5000)"
      ]
     },
     "execution_count": 30,
     "metadata": {},
     "output_type": "execute_result"
    }
   ],
   "source": [
    "vector.shape"
   ]
  },
  {
   "cell_type": "code",
   "execution_count": 31,
   "metadata": {},
   "outputs": [
    {
     "data": {
      "text/plain": [
       "5000"
      ]
     },
     "execution_count": 31,
     "metadata": {},
     "output_type": "execute_result"
    }
   ],
   "source": [
    "len(cv.get_feature_names_out())"
   ]
  },
  {
   "cell_type": "markdown",
   "metadata": {},
   "source": [
    "### 3.4: Cosine Similarity\n",
    "\n",
    "We're going to apply Cosine Similarity to our tags now, assessing the similarity between them for better analysis.\n",
    "\n",
    "- Cosine similarity is a measure that quantifies the similarity between two numerical vectors, often used in natural language processing and recommendation tasks. It measures the cosine of the angle between the two vectors and ranges from -1 (completely different) to 1 (identical), with 0 indicating that the vectors are orthogonal (unrelated). In text processing contexts, vectors typically represent word frequencies in documents. Cosine similarity is useful for finding similar documents or calculating the proximity between words based on their occurrence context."
   ]
  },
  {
   "cell_type": "code",
   "execution_count": 32,
   "metadata": {},
   "outputs": [],
   "source": [
    "from sklearn.metrics.pairwise import cosine_similarity\n",
    "similarity = cosine_similarity(vector)"
   ]
  },
  {
   "cell_type": "code",
   "execution_count": 33,
   "metadata": {},
   "outputs": [
    {
     "data": {
      "text/plain": [
       "(1462, 1462)"
      ]
     },
     "execution_count": 33,
     "metadata": {},
     "output_type": "execute_result"
    }
   ],
   "source": [
    "similarity.shape"
   ]
  },
  {
   "cell_type": "markdown",
   "metadata": {},
   "source": [
    "### 3.5: Creating a Product Recommendation System\n",
    "\n",
    "We'll define a function called 'recommend' that takes a product ID as input. It retrieves the index of the ID in the DataFrame, calculates the cosine similarity between the selected product and all others, sorts them by similarity, and then prints the 10 most similar products."
   ]
  },
  {
   "cell_type": "code",
   "execution_count": 34,
   "metadata": {},
   "outputs": [],
   "source": [
    "def recommend(product_id):\n",
    "    index = amazon_df[amazon_df['product_id'] == product_id].index[0]\n",
    "    print(\"Searched Item:\")\n",
    "    print(amazon_df.iloc[index].product_name)\n",
    "    \n",
    "    distances = sorted(list(enumerate(similarity[index])), reverse=True, key=lambda x: x[1])\n",
    "    print(\"\\nRecommendations:\")\n",
    "    for i in distances[1:11]:\n",
    "        print(amazon_df.iloc[i[0]].product_name)\n"
   ]
  },
  {
   "cell_type": "markdown",
   "metadata": {},
   "source": [
    "# Chapter 4: Tests and Conclusions\n",
    "\n",
    "In this final stage, we will test our recommendation system with some product titles to see what it suggests to us."
   ]
  },
  {
   "cell_type": "code",
   "execution_count": 35,
   "metadata": {},
   "outputs": [
    {
     "name": "stdout",
     "output_type": "stream",
     "text": [
      "Searched Item:\n",
      "KNOWZA Electric Handheld Milk Wand Mixer Frother for Latte Coffee Hot Milk, Milk Frother for Coffee, Egg Beater, Hand Blender, Coffee Beater (BLACK COFFEE BEATER)\n",
      "\n",
      "Recommendations:\n",
      "WIDEWINGS Electric Handheld Milk Wand Mixer Frother for Latte Coffee Hot Milk, Milk Frother for Coffee, Egg Beater, Hand Blender, Coffee Beater with Stand\n",
      "Zuvexa USB Rechargeable Electric Foam Maker - Handheld Milk Wand Mixer Frother for Hot Milk, Hand Blender Coffee, Egg Beater (Black)\n",
      "InstaCuppa Milk Frother for Coffee - Handheld Battery-Operated Electric Milk and Coffee Frother, Stainless Steel Whisk and Stand, Portable Foam Maker for Coffee, Cappuccino, Lattes, and Egg Beaters\n",
      "Oratech Coffee Frother electric, milk frother electric, coffee beater, cappuccino maker, Coffee Foamer, Mocktail Mixer, Coffee Foam Maker, coffee whisker electric, Froth Maker, coffee stirrers electric, coffee frothers, Coffee Blender, (6 Month Warranty) (Multicolour)\n",
      "PRO365 Indo Mocktails/Coffee Foamer/Cappuccino/Lemonade/Milk Frother (6 Months Warranty)\n",
      "FIGMENT Handheld Milk Frother Rechargeable, 3-Speed Electric Frother for Coffee with 2 Whisks and Coffee Decoration Tool, Coffee Frother Mixer, CRESCENT ENTERPRISES VRW0.50BK (A1)\n",
      "Ikea Little Loved Corner PRODUKT Milk-frother, Coffee/Tea Frother, Handheld Milk Wand Mixer Frother, Black\n",
      "Sui Generis Electric Handheld Milk Wand Mixer Frother for Latte Coffee Hot Milk, Milk Frother, Electric Coffee Beater, Egg Beater, Latte Maker, Mini Hand Blender Cappuccino Maker (Multicolor)\n",
      "Milk Frother, Immersion Blender Cordlesss Foam Maker USB Rechargeable Small Mixer Handheld with 2 Stainless Whisks，Wisker for Stirring 3-Speed Adjustable Mini Frother for Cappuccino Latte Coffee Egg\n",
      "IKEA Milk Frother for Your Milk, Coffee,(Cold and hot Drinks), Black\n"
     ]
    }
   ],
   "source": [
    "recommend('B0BBLHTRM9')"
   ]
  },
  {
   "cell_type": "code",
   "execution_count": 36,
   "metadata": {},
   "outputs": [
    {
     "name": "stdout",
     "output_type": "stream",
     "text": [
      "Searched Item:\n",
      "Tata Sky Digital TV HD Setup Box Remote\n",
      "\n",
      "Recommendations:\n",
      "Crypo™ Universal Remote Compatible with Tata Sky Universal HD & SD Set top Box (Also Works with All TV)\n",
      "7SEVEN® Compatible Tata Sky Remote Control Replacement of Original dth SD HD tata Play Set top Box Remote - IR Learning Universal Remote for Any Brand TV - Pairing Must\n",
      "Tata Sky Universal Remote Compatible for SD/HD\n",
      "LOHAYA Television Remote Compatible for VU LED LCD HD Tv Remote Control Model No :- EN2B27V\n",
      "TATA SKY HD Connection with 1 month basic package and free installation\n",
      "Airtel DigitalTV DTH Remote SD/HD/HD Recording Compatible for Television (Shining Black )\n",
      "SVM Products Unbreakable Set Top Box Stand with Dual Remote Holder (Black)\n",
      "Firestick Remote\n",
      "VW 80 cm (32 inches) Playwall Frameless Series HD Ready Android Smart LED TV VW3251 (Black)\n",
      "Technotech High Speed HDMI Cable 5 Meter V1.4 - Supports Full HD 1080p (Color May Vary)\n"
     ]
    }
   ],
   "source": [
    "recommend('B0B3XXSB1K')"
   ]
  },
  {
   "cell_type": "markdown",
   "metadata": {},
   "source": [
    "Apparently, our recommendation system is fulfilling its purpose."
   ]
  }
 ],
 "metadata": {
  "kernelspec": {
   "display_name": "Python 3",
   "language": "python",
   "name": "python3"
  },
  "language_info": {
   "codemirror_mode": {
    "name": "ipython",
    "version": 3
   },
   "file_extension": ".py",
   "mimetype": "text/x-python",
   "name": "python",
   "nbconvert_exporter": "python",
   "pygments_lexer": "ipython3",
   "version": "3.11.8"
  }
 },
 "nbformat": 4,
 "nbformat_minor": 2
}
