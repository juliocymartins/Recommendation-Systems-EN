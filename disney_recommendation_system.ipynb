{
 "cells": [
  {
   "cell_type": "markdown",
   "metadata": {},
   "source": [
    "# Disney Plus Movie Recommendation System \n",
    "\n",
    "Come to an adventure into the world of movie recommendations with our project, where we've developed an intelligent movie recommendation system for Disney Plus. Using the powerful cosine similarity technique, our system analyzes patterns in Disney Plus data and suggests similar movies based on user preferences. From timeless classics to the latest releases, our solution provides personalized recommendations for every viewer, offering a tailored viewing experience and enhancing the discovery of exciting content.\n",
    "\n",
    "Link to Dataset: https://www.kaggle.com/datasets/shivamb/disney-movies-and-tv-shows"
   ]
  },
  {
   "cell_type": "markdown",
   "metadata": {},
   "source": [
    "# Summary\n",
    "\n",
    "### Chapter 1: Exploratory and Statistical Analysis\n",
    "- 1.1: Importing Data and First Look\n",
    "- 1.2: Checking Null Values\n",
    "- 1.3: Checking Data Types\n",
    "- 1.4: Final Data Analysis\n",
    "\n",
    "### Chapter 2: Data Processing\n",
    "- 2.1: Separating the Important Columns\n",
    "- 2.2: Removing Spaces\n",
    "- 2.3: Tag Generation\n",
    "- 2.4: Handling Extra Columns\n",
    "\n",
    "### Chapter 3: Building Recommendation Model\n",
    "- 3.1: Stop Words\n",
    "- 3.2: Stemming\n",
    "- 3.3: CountVectorizer\n",
    "- 3.4: Cosine Similarity\n",
    "- 3.5: Creating a Movie Recommendation System\n",
    "\n",
    "### Chapter 4: Tests and Conclusions\n",
    "-  Final Tests and Conclusion of The Project"
   ]
  },
  {
   "cell_type": "markdown",
   "metadata": {},
   "source": [
    "# Chapter 1 - Exploratory and Statistical Analysis\n",
    "\n",
    "In this section, we take a close look at our data to understand what it can tell us. \n",
    "\n",
    "This step is crucial for getting to know our data better before we dive into more advanced techniques.\n",
    "\n",
    "### 1.1: Importing Data and First Look"
   ]
  },
  {
   "cell_type": "code",
   "execution_count": 1,
   "metadata": {},
   "outputs": [],
   "source": [
    "import numpy as np \n",
    "import pandas as pd\n",
    "\n",
    "import warnings\n",
    "warnings.filterwarnings(\"ignore\")"
   ]
  },
  {
   "cell_type": "code",
   "execution_count": 2,
   "metadata": {},
   "outputs": [
    {
     "data": {
      "text/html": [
       "<div>\n",
       "<style scoped>\n",
       "    .dataframe tbody tr th:only-of-type {\n",
       "        vertical-align: middle;\n",
       "    }\n",
       "\n",
       "    .dataframe tbody tr th {\n",
       "        vertical-align: top;\n",
       "    }\n",
       "\n",
       "    .dataframe thead th {\n",
       "        text-align: right;\n",
       "    }\n",
       "</style>\n",
       "<table border=\"1\" class=\"dataframe\">\n",
       "  <thead>\n",
       "    <tr style=\"text-align: right;\">\n",
       "      <th></th>\n",
       "      <th>show_id</th>\n",
       "      <th>type</th>\n",
       "      <th>title</th>\n",
       "      <th>director</th>\n",
       "      <th>cast</th>\n",
       "      <th>country</th>\n",
       "      <th>date_added</th>\n",
       "      <th>release_year</th>\n",
       "      <th>rating</th>\n",
       "      <th>duration</th>\n",
       "      <th>listed_in</th>\n",
       "      <th>description</th>\n",
       "    </tr>\n",
       "  </thead>\n",
       "  <tbody>\n",
       "    <tr>\n",
       "      <th>0</th>\n",
       "      <td>s1</td>\n",
       "      <td>Movie</td>\n",
       "      <td>Duck the Halls: A Mickey Mouse Christmas Special</td>\n",
       "      <td>Alonso Ramirez Ramos, Dave Wasson</td>\n",
       "      <td>Chris Diamantopoulos, Tony Anselmo, Tress MacN...</td>\n",
       "      <td>NaN</td>\n",
       "      <td>November 26, 2021</td>\n",
       "      <td>2016</td>\n",
       "      <td>TV-G</td>\n",
       "      <td>23 min</td>\n",
       "      <td>Animation, Family</td>\n",
       "      <td>Join Mickey and the gang as they duck the halls!</td>\n",
       "    </tr>\n",
       "    <tr>\n",
       "      <th>1</th>\n",
       "      <td>s2</td>\n",
       "      <td>Movie</td>\n",
       "      <td>Ernest Saves Christmas</td>\n",
       "      <td>John Cherry</td>\n",
       "      <td>Jim Varney, Noelle Parker, Douglas Seale</td>\n",
       "      <td>NaN</td>\n",
       "      <td>November 26, 2021</td>\n",
       "      <td>1988</td>\n",
       "      <td>PG</td>\n",
       "      <td>91 min</td>\n",
       "      <td>Comedy</td>\n",
       "      <td>Santa Claus passes his magic bag to a new St. ...</td>\n",
       "    </tr>\n",
       "    <tr>\n",
       "      <th>2</th>\n",
       "      <td>s3</td>\n",
       "      <td>Movie</td>\n",
       "      <td>Ice Age: A Mammoth Christmas</td>\n",
       "      <td>Karen Disher</td>\n",
       "      <td>Raymond Albert Romano, John Leguizamo, Denis L...</td>\n",
       "      <td>United States</td>\n",
       "      <td>November 26, 2021</td>\n",
       "      <td>2011</td>\n",
       "      <td>TV-G</td>\n",
       "      <td>23 min</td>\n",
       "      <td>Animation, Comedy, Family</td>\n",
       "      <td>Sid the Sloth is on Santa's naughty list.</td>\n",
       "    </tr>\n",
       "    <tr>\n",
       "      <th>3</th>\n",
       "      <td>s4</td>\n",
       "      <td>Movie</td>\n",
       "      <td>The Queen Family Singalong</td>\n",
       "      <td>Hamish Hamilton</td>\n",
       "      <td>Darren Criss, Adam Lambert, Derek Hough, Alexa...</td>\n",
       "      <td>NaN</td>\n",
       "      <td>November 26, 2021</td>\n",
       "      <td>2021</td>\n",
       "      <td>TV-PG</td>\n",
       "      <td>41 min</td>\n",
       "      <td>Musical</td>\n",
       "      <td>This is real life, not just fantasy!</td>\n",
       "    </tr>\n",
       "    <tr>\n",
       "      <th>4</th>\n",
       "      <td>s5</td>\n",
       "      <td>TV Show</td>\n",
       "      <td>The Beatles: Get Back</td>\n",
       "      <td>NaN</td>\n",
       "      <td>John Lennon, Paul McCartney, George Harrison, ...</td>\n",
       "      <td>NaN</td>\n",
       "      <td>November 25, 2021</td>\n",
       "      <td>2021</td>\n",
       "      <td>NaN</td>\n",
       "      <td>1 Season</td>\n",
       "      <td>Docuseries, Historical, Music</td>\n",
       "      <td>A three-part documentary from Peter Jackson ca...</td>\n",
       "    </tr>\n",
       "    <tr>\n",
       "      <th>...</th>\n",
       "      <td>...</td>\n",
       "      <td>...</td>\n",
       "      <td>...</td>\n",
       "      <td>...</td>\n",
       "      <td>...</td>\n",
       "      <td>...</td>\n",
       "      <td>...</td>\n",
       "      <td>...</td>\n",
       "      <td>...</td>\n",
       "      <td>...</td>\n",
       "      <td>...</td>\n",
       "      <td>...</td>\n",
       "    </tr>\n",
       "    <tr>\n",
       "      <th>1445</th>\n",
       "      <td>s1446</td>\n",
       "      <td>Movie</td>\n",
       "      <td>X-Men Origins: Wolverine</td>\n",
       "      <td>Gavin Hood</td>\n",
       "      <td>Hugh Jackman, Liev Schreiber, Danny Huston, wi...</td>\n",
       "      <td>United States, United Kingdom</td>\n",
       "      <td>June 4, 2021</td>\n",
       "      <td>2009</td>\n",
       "      <td>PG-13</td>\n",
       "      <td>108 min</td>\n",
       "      <td>Action-Adventure, Family, Science Fiction</td>\n",
       "      <td>Wolverine unites with legendary X-Men to fight...</td>\n",
       "    </tr>\n",
       "    <tr>\n",
       "      <th>1446</th>\n",
       "      <td>s1447</td>\n",
       "      <td>Movie</td>\n",
       "      <td>Night at the Museum: Battle of the Smithsonian</td>\n",
       "      <td>Shawn Levy</td>\n",
       "      <td>Ben Stiller, Amy Adams, Owen Wilson, Hank Azar...</td>\n",
       "      <td>United States, Canada</td>\n",
       "      <td>April 2, 2021</td>\n",
       "      <td>2009</td>\n",
       "      <td>PG</td>\n",
       "      <td>106 min</td>\n",
       "      <td>Action-Adventure, Comedy, Family</td>\n",
       "      <td>Larry Daley returns to rescue some old friends...</td>\n",
       "    </tr>\n",
       "    <tr>\n",
       "      <th>1447</th>\n",
       "      <td>s1448</td>\n",
       "      <td>Movie</td>\n",
       "      <td>Eddie the Eagle</td>\n",
       "      <td>Dexter Fletcher</td>\n",
       "      <td>Tom Costello, Jo Hartley, Keith Allen, Dickon ...</td>\n",
       "      <td>United Kingdom, Germany, United States</td>\n",
       "      <td>December 18, 2020</td>\n",
       "      <td>2016</td>\n",
       "      <td>PG-13</td>\n",
       "      <td>107 min</td>\n",
       "      <td>Biographical, Comedy, Drama</td>\n",
       "      <td>True story of Eddie Edwards, a British ski-jum...</td>\n",
       "    </tr>\n",
       "    <tr>\n",
       "      <th>1448</th>\n",
       "      <td>s1449</td>\n",
       "      <td>Movie</td>\n",
       "      <td>Bend It Like Beckham</td>\n",
       "      <td>Gurinder Chadha</td>\n",
       "      <td>Parminder Nagra, Keira Knightley, Jonathan Rhy...</td>\n",
       "      <td>United Kingdom, Germany, United States</td>\n",
       "      <td>September 18, 2020</td>\n",
       "      <td>2003</td>\n",
       "      <td>PG-13</td>\n",
       "      <td>112 min</td>\n",
       "      <td>Buddy, Comedy, Coming of Age</td>\n",
       "      <td>Despite the wishes of their traditional famili...</td>\n",
       "    </tr>\n",
       "    <tr>\n",
       "      <th>1449</th>\n",
       "      <td>s1450</td>\n",
       "      <td>Movie</td>\n",
       "      <td>Captain Sparky vs. The Flying Saucers</td>\n",
       "      <td>Mark Waring</td>\n",
       "      <td>Charlie Tahan</td>\n",
       "      <td>United States</td>\n",
       "      <td>April 1, 2020</td>\n",
       "      <td>2012</td>\n",
       "      <td>TV-G</td>\n",
       "      <td>2 min</td>\n",
       "      <td>Action-Adventure, Animals &amp; Nature, Animation</td>\n",
       "      <td>View one of Sparky's favorite home movies.</td>\n",
       "    </tr>\n",
       "  </tbody>\n",
       "</table>\n",
       "<p>1450 rows × 12 columns</p>\n",
       "</div>"
      ],
      "text/plain": [
       "     show_id     type                                             title  \\\n",
       "0         s1    Movie  Duck the Halls: A Mickey Mouse Christmas Special   \n",
       "1         s2    Movie                            Ernest Saves Christmas   \n",
       "2         s3    Movie                      Ice Age: A Mammoth Christmas   \n",
       "3         s4    Movie                        The Queen Family Singalong   \n",
       "4         s5  TV Show                             The Beatles: Get Back   \n",
       "...      ...      ...                                               ...   \n",
       "1445   s1446    Movie                          X-Men Origins: Wolverine   \n",
       "1446   s1447    Movie    Night at the Museum: Battle of the Smithsonian   \n",
       "1447   s1448    Movie                                   Eddie the Eagle   \n",
       "1448   s1449    Movie                              Bend It Like Beckham   \n",
       "1449   s1450    Movie             Captain Sparky vs. The Flying Saucers   \n",
       "\n",
       "                               director  \\\n",
       "0     Alonso Ramirez Ramos, Dave Wasson   \n",
       "1                           John Cherry   \n",
       "2                          Karen Disher   \n",
       "3                       Hamish Hamilton   \n",
       "4                                   NaN   \n",
       "...                                 ...   \n",
       "1445                         Gavin Hood   \n",
       "1446                         Shawn Levy   \n",
       "1447                    Dexter Fletcher   \n",
       "1448                    Gurinder Chadha   \n",
       "1449                        Mark Waring   \n",
       "\n",
       "                                                   cast  \\\n",
       "0     Chris Diamantopoulos, Tony Anselmo, Tress MacN...   \n",
       "1              Jim Varney, Noelle Parker, Douglas Seale   \n",
       "2     Raymond Albert Romano, John Leguizamo, Denis L...   \n",
       "3     Darren Criss, Adam Lambert, Derek Hough, Alexa...   \n",
       "4     John Lennon, Paul McCartney, George Harrison, ...   \n",
       "...                                                 ...   \n",
       "1445  Hugh Jackman, Liev Schreiber, Danny Huston, wi...   \n",
       "1446  Ben Stiller, Amy Adams, Owen Wilson, Hank Azar...   \n",
       "1447  Tom Costello, Jo Hartley, Keith Allen, Dickon ...   \n",
       "1448  Parminder Nagra, Keira Knightley, Jonathan Rhy...   \n",
       "1449                                      Charlie Tahan   \n",
       "\n",
       "                                     country          date_added  \\\n",
       "0                                        NaN   November 26, 2021   \n",
       "1                                        NaN   November 26, 2021   \n",
       "2                              United States   November 26, 2021   \n",
       "3                                        NaN   November 26, 2021   \n",
       "4                                        NaN   November 25, 2021   \n",
       "...                                      ...                 ...   \n",
       "1445           United States, United Kingdom        June 4, 2021   \n",
       "1446                   United States, Canada       April 2, 2021   \n",
       "1447  United Kingdom, Germany, United States   December 18, 2020   \n",
       "1448  United Kingdom, Germany, United States  September 18, 2020   \n",
       "1449                           United States       April 1, 2020   \n",
       "\n",
       "      release_year rating  duration  \\\n",
       "0             2016   TV-G    23 min   \n",
       "1             1988     PG    91 min   \n",
       "2             2011   TV-G    23 min   \n",
       "3             2021  TV-PG    41 min   \n",
       "4             2021    NaN  1 Season   \n",
       "...            ...    ...       ...   \n",
       "1445          2009  PG-13   108 min   \n",
       "1446          2009     PG   106 min   \n",
       "1447          2016  PG-13   107 min   \n",
       "1448          2003  PG-13   112 min   \n",
       "1449          2012   TV-G     2 min   \n",
       "\n",
       "                                          listed_in  \\\n",
       "0                                 Animation, Family   \n",
       "1                                            Comedy   \n",
       "2                         Animation, Comedy, Family   \n",
       "3                                           Musical   \n",
       "4                     Docuseries, Historical, Music   \n",
       "...                                             ...   \n",
       "1445      Action-Adventure, Family, Science Fiction   \n",
       "1446               Action-Adventure, Comedy, Family   \n",
       "1447                    Biographical, Comedy, Drama   \n",
       "1448                   Buddy, Comedy, Coming of Age   \n",
       "1449  Action-Adventure, Animals & Nature, Animation   \n",
       "\n",
       "                                            description  \n",
       "0      Join Mickey and the gang as they duck the halls!  \n",
       "1     Santa Claus passes his magic bag to a new St. ...  \n",
       "2             Sid the Sloth is on Santa's naughty list.  \n",
       "3                  This is real life, not just fantasy!  \n",
       "4     A three-part documentary from Peter Jackson ca...  \n",
       "...                                                 ...  \n",
       "1445  Wolverine unites with legendary X-Men to fight...  \n",
       "1446  Larry Daley returns to rescue some old friends...  \n",
       "1447  True story of Eddie Edwards, a British ski-jum...  \n",
       "1448  Despite the wishes of their traditional famili...  \n",
       "1449         View one of Sparky's favorite home movies.  \n",
       "\n",
       "[1450 rows x 12 columns]"
      ]
     },
     "execution_count": 2,
     "metadata": {},
     "output_type": "execute_result"
    }
   ],
   "source": [
    "disney_df = pd.read_csv('disney_plus_titles.csv')\n",
    "disney_df"
   ]
  },
  {
   "cell_type": "markdown",
   "metadata": {},
   "source": [
    "As we can see, this is a dataset containing the content of Disney Plus, where we can find several well-known and lesser-known titles to the general public, along with various data about them.\n",
    "\n",
    "The columns 'cast,' 'director,' and 'listed_in' contain names that should be combined to make them more unique. For example, 'Steven' is a common name, but 'Steven Spielberg'  is more specific and recognizable. In this case the tag would be 'StevenSpielberg' instead of 'Steven' and 'Spielberg'.\n",
    "\n",
    "The dataset has 1450 rows and 12 columns."
   ]
  },
  {
   "cell_type": "code",
   "execution_count": 3,
   "metadata": {},
   "outputs": [
    {
     "data": {
      "text/plain": [
       "Index(['show_id', 'type', 'title', 'director', 'cast', 'country', 'date_added',\n",
       "       'release_year', 'rating', 'duration', 'listed_in', 'description'],\n",
       "      dtype='object')"
      ]
     },
     "execution_count": 3,
     "metadata": {},
     "output_type": "execute_result"
    }
   ],
   "source": [
    "# We'll see now what's the name of the columns.\n",
    "disney_df.columns"
   ]
  },
  {
   "cell_type": "markdown",
   "metadata": {},
   "source": [
    "### 1.2: Checking Null Values\n",
    "\n",
    " We'll use 'isnull()' and 'sum()' to see how many null values the columns has."
   ]
  },
  {
   "cell_type": "code",
   "execution_count": 4,
   "metadata": {},
   "outputs": [
    {
     "data": {
      "text/plain": [
       "show_id           0\n",
       "type              0\n",
       "title             0\n",
       "director        473\n",
       "cast            190\n",
       "country         219\n",
       "date_added        3\n",
       "release_year      0\n",
       "rating            3\n",
       "duration          0\n",
       "listed_in         0\n",
       "description       0\n",
       "dtype: int64"
      ]
     },
     "execution_count": 4,
     "metadata": {},
     "output_type": "execute_result"
    }
   ],
   "source": [
    "disney_df.isnull().sum()"
   ]
  },
  {
   "cell_type": "markdown",
   "metadata": {},
   "source": [
    "The columns 'director,' 'cast,' and 'country' contain null values.\n",
    "\n",
    "It's not ideal, but the tags will still work without that info."
   ]
  },
  {
   "cell_type": "markdown",
   "metadata": {},
   "source": [
    "### 1.3: Checking Data Types\n",
    "\n",
    "'dtypes' show us the type of each column of our dataframe."
   ]
  },
  {
   "cell_type": "code",
   "execution_count": 5,
   "metadata": {},
   "outputs": [
    {
     "data": {
      "text/plain": [
       "show_id         object\n",
       "type            object\n",
       "title           object\n",
       "director        object\n",
       "cast            object\n",
       "country         object\n",
       "date_added      object\n",
       "release_year     int64\n",
       "rating          object\n",
       "duration        object\n",
       "listed_in       object\n",
       "description     object\n",
       "dtype: object"
      ]
     },
     "execution_count": 5,
     "metadata": {},
     "output_type": "execute_result"
    }
   ],
   "source": [
    "disney_df.dtypes"
   ]
  },
  {
   "cell_type": "markdown",
   "metadata": {},
   "source": [
    "All columns are 'object' type."
   ]
  },
  {
   "cell_type": "markdown",
   "metadata": {},
   "source": [
    "### 1.4: Final Data Analysis"
   ]
  },
  {
   "cell_type": "markdown",
   "metadata": {},
   "source": [
    "Retrieving the complete description of the movie 'Home Alone' to get an idea of the content of this important column. This column will be used later to create our tags.\n"
   ]
  },
  {
   "cell_type": "code",
   "execution_count": 6,
   "metadata": {},
   "outputs": [
    {
     "data": {
      "text/plain": [
       "'Alone for the holidays, Max Mercer will do whatever it takes to protect his home from trespassers.'"
      ]
     },
     "execution_count": 6,
     "metadata": {},
     "output_type": "execute_result"
    }
   ],
   "source": [
    "# Find the index of the row where the title is 'Home Alone'\n",
    "home_alone_index = disney_df.index[disney_df['title'].str.contains('Home Alone', case=False)].tolist()[0]\n",
    "\n",
    "# Access the full description using the found index\n",
    "home_alone_description = disney_df.loc[home_alone_index, 'description']\n",
    "\n",
    "# Print the full description\n",
    "home_alone_description"
   ]
  },
  {
   "cell_type": "markdown",
   "metadata": {},
   "source": [
    "The same process was carried out with other titles to better understand this variable.\n",
    "\n",
    "As we can see, it's a really short description about the title."
   ]
  },
  {
   "cell_type": "markdown",
   "metadata": {},
   "source": [
    "# Chapter 2: Data Processing\n",
    "\n",
    "This section involves formatting and consolidating relevant data columns to create a unified representation of each movie's attributes. \n",
    "\n",
    "The processed data will serve as the foundation for building the recommendation system."
   ]
  },
  {
   "cell_type": "markdown",
   "metadata": {},
   "source": [
    "### 2.1: Separating the Important Columns"
   ]
  },
  {
   "cell_type": "code",
   "execution_count": 7,
   "metadata": {},
   "outputs": [
    {
     "data": {
      "text/html": [
       "<div>\n",
       "<style scoped>\n",
       "    .dataframe tbody tr th:only-of-type {\n",
       "        vertical-align: middle;\n",
       "    }\n",
       "\n",
       "    .dataframe tbody tr th {\n",
       "        vertical-align: top;\n",
       "    }\n",
       "\n",
       "    .dataframe thead th {\n",
       "        text-align: right;\n",
       "    }\n",
       "</style>\n",
       "<table border=\"1\" class=\"dataframe\">\n",
       "  <thead>\n",
       "    <tr style=\"text-align: right;\">\n",
       "      <th></th>\n",
       "      <th>show_id</th>\n",
       "      <th>rating</th>\n",
       "      <th>type</th>\n",
       "      <th>title</th>\n",
       "      <th>release_year</th>\n",
       "      <th>listed_in</th>\n",
       "      <th>director</th>\n",
       "      <th>cast</th>\n",
       "      <th>description</th>\n",
       "    </tr>\n",
       "  </thead>\n",
       "  <tbody>\n",
       "    <tr>\n",
       "      <th>0</th>\n",
       "      <td>s1</td>\n",
       "      <td>TV-G</td>\n",
       "      <td>Movie</td>\n",
       "      <td>Duck the Halls: A Mickey Mouse Christmas Special</td>\n",
       "      <td>2016</td>\n",
       "      <td>Animation, Family</td>\n",
       "      <td>Alonso Ramirez Ramos, Dave Wasson</td>\n",
       "      <td>Chris Diamantopoulos, Tony Anselmo, Tress MacN...</td>\n",
       "      <td>Join Mickey and the gang as they duck the halls!</td>\n",
       "    </tr>\n",
       "    <tr>\n",
       "      <th>1</th>\n",
       "      <td>s2</td>\n",
       "      <td>PG</td>\n",
       "      <td>Movie</td>\n",
       "      <td>Ernest Saves Christmas</td>\n",
       "      <td>1988</td>\n",
       "      <td>Comedy</td>\n",
       "      <td>John Cherry</td>\n",
       "      <td>Jim Varney, Noelle Parker, Douglas Seale</td>\n",
       "      <td>Santa Claus passes his magic bag to a new St. ...</td>\n",
       "    </tr>\n",
       "    <tr>\n",
       "      <th>2</th>\n",
       "      <td>s3</td>\n",
       "      <td>TV-G</td>\n",
       "      <td>Movie</td>\n",
       "      <td>Ice Age: A Mammoth Christmas</td>\n",
       "      <td>2011</td>\n",
       "      <td>Animation, Comedy, Family</td>\n",
       "      <td>Karen Disher</td>\n",
       "      <td>Raymond Albert Romano, John Leguizamo, Denis L...</td>\n",
       "      <td>Sid the Sloth is on Santa's naughty list.</td>\n",
       "    </tr>\n",
       "    <tr>\n",
       "      <th>3</th>\n",
       "      <td>s4</td>\n",
       "      <td>TV-PG</td>\n",
       "      <td>Movie</td>\n",
       "      <td>The Queen Family Singalong</td>\n",
       "      <td>2021</td>\n",
       "      <td>Musical</td>\n",
       "      <td>Hamish Hamilton</td>\n",
       "      <td>Darren Criss, Adam Lambert, Derek Hough, Alexa...</td>\n",
       "      <td>This is real life, not just fantasy!</td>\n",
       "    </tr>\n",
       "    <tr>\n",
       "      <th>4</th>\n",
       "      <td>s5</td>\n",
       "      <td>NaN</td>\n",
       "      <td>TV Show</td>\n",
       "      <td>The Beatles: Get Back</td>\n",
       "      <td>2021</td>\n",
       "      <td>Docuseries, Historical, Music</td>\n",
       "      <td>NaN</td>\n",
       "      <td>John Lennon, Paul McCartney, George Harrison, ...</td>\n",
       "      <td>A three-part documentary from Peter Jackson ca...</td>\n",
       "    </tr>\n",
       "  </tbody>\n",
       "</table>\n",
       "</div>"
      ],
      "text/plain": [
       "  show_id rating     type                                             title  \\\n",
       "0      s1   TV-G    Movie  Duck the Halls: A Mickey Mouse Christmas Special   \n",
       "1      s2     PG    Movie                            Ernest Saves Christmas   \n",
       "2      s3   TV-G    Movie                      Ice Age: A Mammoth Christmas   \n",
       "3      s4  TV-PG    Movie                        The Queen Family Singalong   \n",
       "4      s5    NaN  TV Show                             The Beatles: Get Back   \n",
       "\n",
       "   release_year                      listed_in  \\\n",
       "0          2016              Animation, Family   \n",
       "1          1988                         Comedy   \n",
       "2          2011      Animation, Comedy, Family   \n",
       "3          2021                        Musical   \n",
       "4          2021  Docuseries, Historical, Music   \n",
       "\n",
       "                            director  \\\n",
       "0  Alonso Ramirez Ramos, Dave Wasson   \n",
       "1                        John Cherry   \n",
       "2                       Karen Disher   \n",
       "3                    Hamish Hamilton   \n",
       "4                                NaN   \n",
       "\n",
       "                                                cast  \\\n",
       "0  Chris Diamantopoulos, Tony Anselmo, Tress MacN...   \n",
       "1           Jim Varney, Noelle Parker, Douglas Seale   \n",
       "2  Raymond Albert Romano, John Leguizamo, Denis L...   \n",
       "3  Darren Criss, Adam Lambert, Derek Hough, Alexa...   \n",
       "4  John Lennon, Paul McCartney, George Harrison, ...   \n",
       "\n",
       "                                         description  \n",
       "0   Join Mickey and the gang as they duck the halls!  \n",
       "1  Santa Claus passes his magic bag to a new St. ...  \n",
       "2          Sid the Sloth is on Santa's naughty list.  \n",
       "3               This is real life, not just fantasy!  \n",
       "4  A three-part documentary from Peter Jackson ca...  "
      ]
     },
     "execution_count": 7,
     "metadata": {},
     "output_type": "execute_result"
    }
   ],
   "source": [
    "# Keeping important columns for recommendation\n",
    "disney_df = disney_df[['show_id', 'rating', 'type', 'title', 'release_year', 'listed_in', 'director', 'cast', 'description', ]]\n",
    "disney_df.head()"
   ]
  },
  {
   "cell_type": "markdown",
   "metadata": {},
   "source": [
    "We have separated here the most relevant columns for our project.\n",
    "\n",
    "Now, let's process the data to create our 'tags' that will be analyzed to generate the best possible recommendations based on the searched title."
   ]
  },
  {
   "cell_type": "markdown",
   "metadata": {},
   "source": [
    "### 2.2: Removing Spaces"
   ]
  },
  {
   "cell_type": "markdown",
   "metadata": {},
   "source": [
    "In this section, we'll remove spaces from the 'cast', 'director', and 'listed_in' columns. Removing spaces in these cases will allow us to create more specific names that will be used in our tags."
   ]
  },
  {
   "cell_type": "code",
   "execution_count": 8,
   "metadata": {},
   "outputs": [],
   "source": [
    "def remove_space(x):\n",
    "    if isinstance(x, str):\n",
    "        return x.replace(\" \", \"\")\n",
    "    else:\n",
    "        return x"
   ]
  },
  {
   "cell_type": "code",
   "execution_count": 9,
   "metadata": {},
   "outputs": [],
   "source": [
    "# Aplicar a função às colunas desejadas\n",
    "columns_to_process = ['cast', 'director', 'listed_in']\n",
    "for column in columns_to_process:\n",
    "    disney_df.loc[:, column] = disney_df[column].apply(remove_space)"
   ]
  },
  {
   "cell_type": "markdown",
   "metadata": {},
   "source": [
    "### 2.3: Tag Generation\n",
    "\n",
    "In this section, we generate tags for each movie by combining relevant information such as title, description, listed categories, release year, cast, director, rating, and type. \n",
    "\n",
    "This process creates a comprehensive representation of each movie's attributes, which will be used in the recommendation system."
   ]
  },
  {
   "cell_type": "code",
   "execution_count": 10,
   "metadata": {},
   "outputs": [
    {
     "data": {
      "text/html": [
       "<div>\n",
       "<style scoped>\n",
       "    .dataframe tbody tr th:only-of-type {\n",
       "        vertical-align: middle;\n",
       "    }\n",
       "\n",
       "    .dataframe tbody tr th {\n",
       "        vertical-align: top;\n",
       "    }\n",
       "\n",
       "    .dataframe thead th {\n",
       "        text-align: right;\n",
       "    }\n",
       "</style>\n",
       "<table border=\"1\" class=\"dataframe\">\n",
       "  <thead>\n",
       "    <tr style=\"text-align: right;\">\n",
       "      <th></th>\n",
       "      <th>show_id</th>\n",
       "      <th>rating</th>\n",
       "      <th>type</th>\n",
       "      <th>title</th>\n",
       "      <th>release_year</th>\n",
       "      <th>listed_in</th>\n",
       "      <th>director</th>\n",
       "      <th>cast</th>\n",
       "      <th>description</th>\n",
       "      <th>tags</th>\n",
       "    </tr>\n",
       "  </thead>\n",
       "  <tbody>\n",
       "    <tr>\n",
       "      <th>0</th>\n",
       "      <td>s1</td>\n",
       "      <td>TV-G</td>\n",
       "      <td>Movie</td>\n",
       "      <td>Duck the Halls: A Mickey Mouse Christmas Special</td>\n",
       "      <td>2016</td>\n",
       "      <td>Animation,Family</td>\n",
       "      <td>AlonsoRamirezRamos,DaveWasson</td>\n",
       "      <td>ChrisDiamantopoulos,TonyAnselmo,TressMacNeille...</td>\n",
       "      <td>Join Mickey and the gang as they duck the halls!</td>\n",
       "      <td>Duck the Halls: A Mickey Mouse Christmas Speci...</td>\n",
       "    </tr>\n",
       "    <tr>\n",
       "      <th>1</th>\n",
       "      <td>s2</td>\n",
       "      <td>PG</td>\n",
       "      <td>Movie</td>\n",
       "      <td>Ernest Saves Christmas</td>\n",
       "      <td>1988</td>\n",
       "      <td>Comedy</td>\n",
       "      <td>JohnCherry</td>\n",
       "      <td>JimVarney,NoelleParker,DouglasSeale</td>\n",
       "      <td>Santa Claus passes his magic bag to a new St. ...</td>\n",
       "      <td>Ernest Saves Christmas Santa Claus passes his ...</td>\n",
       "    </tr>\n",
       "    <tr>\n",
       "      <th>2</th>\n",
       "      <td>s3</td>\n",
       "      <td>TV-G</td>\n",
       "      <td>Movie</td>\n",
       "      <td>Ice Age: A Mammoth Christmas</td>\n",
       "      <td>2011</td>\n",
       "      <td>Animation,Comedy,Family</td>\n",
       "      <td>KarenDisher</td>\n",
       "      <td>RaymondAlbertRomano,JohnLeguizamo,DenisLeary,Q...</td>\n",
       "      <td>Sid the Sloth is on Santa's naughty list.</td>\n",
       "      <td>Ice Age: A Mammoth Christmas Sid the Sloth is ...</td>\n",
       "    </tr>\n",
       "    <tr>\n",
       "      <th>3</th>\n",
       "      <td>s4</td>\n",
       "      <td>TV-PG</td>\n",
       "      <td>Movie</td>\n",
       "      <td>The Queen Family Singalong</td>\n",
       "      <td>2021</td>\n",
       "      <td>Musical</td>\n",
       "      <td>HamishHamilton</td>\n",
       "      <td>DarrenCriss,AdamLambert,DerekHough,AlexanderJe...</td>\n",
       "      <td>This is real life, not just fantasy!</td>\n",
       "      <td>The Queen Family Singalong This is real life, ...</td>\n",
       "    </tr>\n",
       "    <tr>\n",
       "      <th>4</th>\n",
       "      <td>s5</td>\n",
       "      <td>NaN</td>\n",
       "      <td>TV Show</td>\n",
       "      <td>The Beatles: Get Back</td>\n",
       "      <td>2021</td>\n",
       "      <td>Docuseries,Historical,Music</td>\n",
       "      <td>NaN</td>\n",
       "      <td>JohnLennon,PaulMcCartney,GeorgeHarrison,RingoS...</td>\n",
       "      <td>A three-part documentary from Peter Jackson ca...</td>\n",
       "      <td>NaN</td>\n",
       "    </tr>\n",
       "  </tbody>\n",
       "</table>\n",
       "</div>"
      ],
      "text/plain": [
       "  show_id rating     type                                             title  \\\n",
       "0      s1   TV-G    Movie  Duck the Halls: A Mickey Mouse Christmas Special   \n",
       "1      s2     PG    Movie                            Ernest Saves Christmas   \n",
       "2      s3   TV-G    Movie                      Ice Age: A Mammoth Christmas   \n",
       "3      s4  TV-PG    Movie                        The Queen Family Singalong   \n",
       "4      s5    NaN  TV Show                             The Beatles: Get Back   \n",
       "\n",
       "  release_year                    listed_in                       director  \\\n",
       "0         2016             Animation,Family  AlonsoRamirezRamos,DaveWasson   \n",
       "1         1988                       Comedy                     JohnCherry   \n",
       "2         2011      Animation,Comedy,Family                    KarenDisher   \n",
       "3         2021                      Musical                 HamishHamilton   \n",
       "4         2021  Docuseries,Historical,Music                            NaN   \n",
       "\n",
       "                                                cast  \\\n",
       "0  ChrisDiamantopoulos,TonyAnselmo,TressMacNeille...   \n",
       "1                JimVarney,NoelleParker,DouglasSeale   \n",
       "2  RaymondAlbertRomano,JohnLeguizamo,DenisLeary,Q...   \n",
       "3  DarrenCriss,AdamLambert,DerekHough,AlexanderJe...   \n",
       "4  JohnLennon,PaulMcCartney,GeorgeHarrison,RingoS...   \n",
       "\n",
       "                                         description  \\\n",
       "0   Join Mickey and the gang as they duck the halls!   \n",
       "1  Santa Claus passes his magic bag to a new St. ...   \n",
       "2          Sid the Sloth is on Santa's naughty list.   \n",
       "3               This is real life, not just fantasy!   \n",
       "4  A three-part documentary from Peter Jackson ca...   \n",
       "\n",
       "                                                tags  \n",
       "0  Duck the Halls: A Mickey Mouse Christmas Speci...  \n",
       "1  Ernest Saves Christmas Santa Claus passes his ...  \n",
       "2  Ice Age: A Mammoth Christmas Sid the Sloth is ...  \n",
       "3  The Queen Family Singalong This is real life, ...  \n",
       "4                                                NaN  "
      ]
     },
     "execution_count": 10,
     "metadata": {},
     "output_type": "execute_result"
    }
   ],
   "source": [
    "# Turn the column 'release_year' into string\n",
    "disney_df['release_year'] = disney_df['release_year'].astype(str)\n",
    "\n",
    "# Concatenate all\n",
    "disney_df['tags'] = disney_df['title'] + \" \" + disney_df['description'] + \" \" + disney_df['listed_in'] + \" \" + disney_df['release_year'] + \" \"  + disney_df['cast'] + \" \"  + disney_df['director'] + \" \" + disney_df['rating'] + \" \" + disney_df['type']\n",
    "\n",
    "disney_df.head()\n"
   ]
  },
  {
   "cell_type": "code",
   "execution_count": 11,
   "metadata": {},
   "outputs": [
    {
     "data": {
      "text/plain": [
       "'Duck the Halls: A Mickey Mouse Christmas Special Join Mickey and the gang as they duck the halls! Animation,Family 2016 ChrisDiamantopoulos,TonyAnselmo,TressMacNeille,BillFarmer,RussiTaylor,CoreyBurton AlonsoRamirezRamos,DaveWasson TV-G Movie'"
      ]
     },
     "execution_count": 11,
     "metadata": {},
     "output_type": "execute_result"
    }
   ],
   "source": [
    "disney_df['tags'][0]"
   ]
  },
  {
   "cell_type": "markdown",
   "metadata": {},
   "source": [
    "Now we'll remove the commas from tags."
   ]
  },
  {
   "cell_type": "code",
   "execution_count": 12,
   "metadata": {},
   "outputs": [
    {
     "data": {
      "text/plain": [
       "'Duck the Halls: A Mickey Mouse Christmas Special Join Mickey and the gang as they duck the halls! Animation Family 2016 ChrisDiamantopoulos TonyAnselmo TressMacNeille BillFarmer RussiTaylor CoreyBurton AlonsoRamirezRamos DaveWasson TV-G Movie'"
      ]
     },
     "execution_count": 12,
     "metadata": {},
     "output_type": "execute_result"
    }
   ],
   "source": [
    "disney_df.loc[:, 'tags'] = disney_df['tags'].str.replace(',', ' ')\n",
    "disney_df['tags'][0]"
   ]
  },
  {
   "cell_type": "code",
   "execution_count": 13,
   "metadata": {},
   "outputs": [
    {
     "data": {
      "text/html": [
       "<div>\n",
       "<style scoped>\n",
       "    .dataframe tbody tr th:only-of-type {\n",
       "        vertical-align: middle;\n",
       "    }\n",
       "\n",
       "    .dataframe tbody tr th {\n",
       "        vertical-align: top;\n",
       "    }\n",
       "\n",
       "    .dataframe thead th {\n",
       "        text-align: right;\n",
       "    }\n",
       "</style>\n",
       "<table border=\"1\" class=\"dataframe\">\n",
       "  <thead>\n",
       "    <tr style=\"text-align: right;\">\n",
       "      <th></th>\n",
       "      <th>show_id</th>\n",
       "      <th>rating</th>\n",
       "      <th>type</th>\n",
       "      <th>title</th>\n",
       "      <th>release_year</th>\n",
       "      <th>listed_in</th>\n",
       "      <th>director</th>\n",
       "      <th>cast</th>\n",
       "      <th>description</th>\n",
       "      <th>tags</th>\n",
       "    </tr>\n",
       "  </thead>\n",
       "  <tbody>\n",
       "    <tr>\n",
       "      <th>0</th>\n",
       "      <td>s1</td>\n",
       "      <td>TV-G</td>\n",
       "      <td>Movie</td>\n",
       "      <td>Duck the Halls: A Mickey Mouse Christmas Special</td>\n",
       "      <td>2016</td>\n",
       "      <td>Animation,Family</td>\n",
       "      <td>AlonsoRamirezRamos,DaveWasson</td>\n",
       "      <td>ChrisDiamantopoulos,TonyAnselmo,TressMacNeille...</td>\n",
       "      <td>Join Mickey and the gang as they duck the halls!</td>\n",
       "      <td>Duck the Halls: A Mickey Mouse Christmas Speci...</td>\n",
       "    </tr>\n",
       "    <tr>\n",
       "      <th>1</th>\n",
       "      <td>s2</td>\n",
       "      <td>PG</td>\n",
       "      <td>Movie</td>\n",
       "      <td>Ernest Saves Christmas</td>\n",
       "      <td>1988</td>\n",
       "      <td>Comedy</td>\n",
       "      <td>JohnCherry</td>\n",
       "      <td>JimVarney,NoelleParker,DouglasSeale</td>\n",
       "      <td>Santa Claus passes his magic bag to a new St. ...</td>\n",
       "      <td>Ernest Saves Christmas Santa Claus passes his ...</td>\n",
       "    </tr>\n",
       "    <tr>\n",
       "      <th>2</th>\n",
       "      <td>s3</td>\n",
       "      <td>TV-G</td>\n",
       "      <td>Movie</td>\n",
       "      <td>Ice Age: A Mammoth Christmas</td>\n",
       "      <td>2011</td>\n",
       "      <td>Animation,Comedy,Family</td>\n",
       "      <td>KarenDisher</td>\n",
       "      <td>RaymondAlbertRomano,JohnLeguizamo,DenisLeary,Q...</td>\n",
       "      <td>Sid the Sloth is on Santa's naughty list.</td>\n",
       "      <td>Ice Age: A Mammoth Christmas Sid the Sloth is ...</td>\n",
       "    </tr>\n",
       "    <tr>\n",
       "      <th>3</th>\n",
       "      <td>s4</td>\n",
       "      <td>TV-PG</td>\n",
       "      <td>Movie</td>\n",
       "      <td>The Queen Family Singalong</td>\n",
       "      <td>2021</td>\n",
       "      <td>Musical</td>\n",
       "      <td>HamishHamilton</td>\n",
       "      <td>DarrenCriss,AdamLambert,DerekHough,AlexanderJe...</td>\n",
       "      <td>This is real life, not just fantasy!</td>\n",
       "      <td>The Queen Family Singalong This is real life  ...</td>\n",
       "    </tr>\n",
       "    <tr>\n",
       "      <th>4</th>\n",
       "      <td>s5</td>\n",
       "      <td>NaN</td>\n",
       "      <td>TV Show</td>\n",
       "      <td>The Beatles: Get Back</td>\n",
       "      <td>2021</td>\n",
       "      <td>Docuseries,Historical,Music</td>\n",
       "      <td>NaN</td>\n",
       "      <td>JohnLennon,PaulMcCartney,GeorgeHarrison,RingoS...</td>\n",
       "      <td>A three-part documentary from Peter Jackson ca...</td>\n",
       "      <td>NaN</td>\n",
       "    </tr>\n",
       "  </tbody>\n",
       "</table>\n",
       "</div>"
      ],
      "text/plain": [
       "  show_id rating     type                                             title  \\\n",
       "0      s1   TV-G    Movie  Duck the Halls: A Mickey Mouse Christmas Special   \n",
       "1      s2     PG    Movie                            Ernest Saves Christmas   \n",
       "2      s3   TV-G    Movie                      Ice Age: A Mammoth Christmas   \n",
       "3      s4  TV-PG    Movie                        The Queen Family Singalong   \n",
       "4      s5    NaN  TV Show                             The Beatles: Get Back   \n",
       "\n",
       "  release_year                    listed_in                       director  \\\n",
       "0         2016             Animation,Family  AlonsoRamirezRamos,DaveWasson   \n",
       "1         1988                       Comedy                     JohnCherry   \n",
       "2         2011      Animation,Comedy,Family                    KarenDisher   \n",
       "3         2021                      Musical                 HamishHamilton   \n",
       "4         2021  Docuseries,Historical,Music                            NaN   \n",
       "\n",
       "                                                cast  \\\n",
       "0  ChrisDiamantopoulos,TonyAnselmo,TressMacNeille...   \n",
       "1                JimVarney,NoelleParker,DouglasSeale   \n",
       "2  RaymondAlbertRomano,JohnLeguizamo,DenisLeary,Q...   \n",
       "3  DarrenCriss,AdamLambert,DerekHough,AlexanderJe...   \n",
       "4  JohnLennon,PaulMcCartney,GeorgeHarrison,RingoS...   \n",
       "\n",
       "                                         description  \\\n",
       "0   Join Mickey and the gang as they duck the halls!   \n",
       "1  Santa Claus passes his magic bag to a new St. ...   \n",
       "2          Sid the Sloth is on Santa's naughty list.   \n",
       "3               This is real life, not just fantasy!   \n",
       "4  A three-part documentary from Peter Jackson ca...   \n",
       "\n",
       "                                                tags  \n",
       "0  Duck the Halls: A Mickey Mouse Christmas Speci...  \n",
       "1  Ernest Saves Christmas Santa Claus passes his ...  \n",
       "2  Ice Age: A Mammoth Christmas Sid the Sloth is ...  \n",
       "3  The Queen Family Singalong This is real life  ...  \n",
       "4                                                NaN  "
      ]
     },
     "execution_count": 13,
     "metadata": {},
     "output_type": "execute_result"
    }
   ],
   "source": [
    "disney_df.head()"
   ]
  },
  {
   "cell_type": "markdown",
   "metadata": {},
   "source": [
    "The tags have been successfully created!"
   ]
  },
  {
   "cell_type": "markdown",
   "metadata": {},
   "source": [
    "### 2.4: Handling Extra Columns\n",
    "\n",
    "Only a few columns will be kept along with 'tags,' just to get an idea of the content we have at hand."
   ]
  },
  {
   "cell_type": "code",
   "execution_count": 14,
   "metadata": {},
   "outputs": [
    {
     "data": {
      "text/html": [
       "<div>\n",
       "<style scoped>\n",
       "    .dataframe tbody tr th:only-of-type {\n",
       "        vertical-align: middle;\n",
       "    }\n",
       "\n",
       "    .dataframe tbody tr th {\n",
       "        vertical-align: top;\n",
       "    }\n",
       "\n",
       "    .dataframe thead th {\n",
       "        text-align: right;\n",
       "    }\n",
       "</style>\n",
       "<table border=\"1\" class=\"dataframe\">\n",
       "  <thead>\n",
       "    <tr style=\"text-align: right;\">\n",
       "      <th></th>\n",
       "      <th>show_id</th>\n",
       "      <th>title</th>\n",
       "      <th>rating</th>\n",
       "      <th>type</th>\n",
       "      <th>tags</th>\n",
       "    </tr>\n",
       "  </thead>\n",
       "  <tbody>\n",
       "    <tr>\n",
       "      <th>0</th>\n",
       "      <td>s1</td>\n",
       "      <td>Duck the Halls: A Mickey Mouse Christmas Special</td>\n",
       "      <td>TV-G</td>\n",
       "      <td>Movie</td>\n",
       "      <td>Duck the Halls: A Mickey Mouse Christmas Speci...</td>\n",
       "    </tr>\n",
       "    <tr>\n",
       "      <th>1</th>\n",
       "      <td>s2</td>\n",
       "      <td>Ernest Saves Christmas</td>\n",
       "      <td>PG</td>\n",
       "      <td>Movie</td>\n",
       "      <td>Ernest Saves Christmas Santa Claus passes his ...</td>\n",
       "    </tr>\n",
       "    <tr>\n",
       "      <th>2</th>\n",
       "      <td>s3</td>\n",
       "      <td>Ice Age: A Mammoth Christmas</td>\n",
       "      <td>TV-G</td>\n",
       "      <td>Movie</td>\n",
       "      <td>Ice Age: A Mammoth Christmas Sid the Sloth is ...</td>\n",
       "    </tr>\n",
       "    <tr>\n",
       "      <th>3</th>\n",
       "      <td>s4</td>\n",
       "      <td>The Queen Family Singalong</td>\n",
       "      <td>TV-PG</td>\n",
       "      <td>Movie</td>\n",
       "      <td>The Queen Family Singalong This is real life  ...</td>\n",
       "    </tr>\n",
       "    <tr>\n",
       "      <th>4</th>\n",
       "      <td>s5</td>\n",
       "      <td>The Beatles: Get Back</td>\n",
       "      <td>NaN</td>\n",
       "      <td>TV Show</td>\n",
       "      <td>NaN</td>\n",
       "    </tr>\n",
       "  </tbody>\n",
       "</table>\n",
       "</div>"
      ],
      "text/plain": [
       "  show_id                                             title rating     type  \\\n",
       "0      s1  Duck the Halls: A Mickey Mouse Christmas Special   TV-G    Movie   \n",
       "1      s2                            Ernest Saves Christmas     PG    Movie   \n",
       "2      s3                      Ice Age: A Mammoth Christmas   TV-G    Movie   \n",
       "3      s4                        The Queen Family Singalong  TV-PG    Movie   \n",
       "4      s5                             The Beatles: Get Back    NaN  TV Show   \n",
       "\n",
       "                                                tags  \n",
       "0  Duck the Halls: A Mickey Mouse Christmas Speci...  \n",
       "1  Ernest Saves Christmas Santa Claus passes his ...  \n",
       "2  Ice Age: A Mammoth Christmas Sid the Sloth is ...  \n",
       "3  The Queen Family Singalong This is real life  ...  \n",
       "4                                                NaN  "
      ]
     },
     "execution_count": 14,
     "metadata": {},
     "output_type": "execute_result"
    }
   ],
   "source": [
    "disney_df = disney_df[['show_id','title', 'rating', 'type', 'tags']]\n",
    "disney_df.head()"
   ]
  },
  {
   "cell_type": "code",
   "execution_count": 15,
   "metadata": {},
   "outputs": [
    {
     "data": {
      "text/plain": [
       "31"
      ]
     },
     "execution_count": 15,
     "metadata": {},
     "output_type": "execute_result"
    }
   ],
   "source": [
    "# Count the number of words in the first row (index 0) of the 'tags' column\n",
    "number_of_words = len(disney_df['tags'][0].split())\n",
    "\n",
    "# Show the result\n",
    "number_of_words"
   ]
  },
  {
   "cell_type": "markdown",
   "metadata": {},
   "source": [
    "# Chapter 3: Building Prediction Model\n",
    "\n",
    "This section focuses on preparing the text data for modeling. It involves essential preprocessing steps such as removing stop words and applying stemming to reduce words to their root form. The CountVectorizer is then utilized to transform the text data into a numerical format suitable for machine learning algorithms. Additionally, missing values in the 'tags' column are handled to ensure seamless integration with the model."
   ]
  },
  {
   "cell_type": "markdown",
   "metadata": {},
   "source": [
    "### 3.1: Stop Words\n",
    "\n",
    "We'll download and load the English stop words list using the Natural Language Toolkit (NLTK). The stop words are then used to create a function called 'remover_stop_words' that removes stop words from the 'tags' column in the DataFrame.\n",
    "\n",
    " This step helps in preprocessing the text data by removing common words that do not contribute significantly to the meaning of the text."
   ]
  },
  {
   "cell_type": "code",
   "execution_count": 16,
   "metadata": {},
   "outputs": [
    {
     "name": "stderr",
     "output_type": "stream",
     "text": [
      "[nltk_data] Downloading package stopwords to\n",
      "[nltk_data]     C:\\Users\\yamas\\AppData\\Roaming\\nltk_data...\n",
      "[nltk_data]   Package stopwords is already up-to-date!\n"
     ]
    }
   ],
   "source": [
    "import nltk\n",
    "from nltk.corpus import stopwords\n",
    "\n",
    "# Baixando a lista de stop words em inglês\n",
    "nltk.download('stopwords')\n",
    "\n",
    "# Carregando as stop words em inglês\n",
    "stop_words = set(stopwords.words('english'))\n",
    "\n",
    "# Supondo que 'disney_df' é o seu DataFrame com a coluna 'tags'\n",
    "\n",
    "# Função para remover stop words\n",
    "def remover_stop_words(tags):\n",
    "    # Verificar se 'tags' é uma string\n",
    "    if isinstance(tags, str):\n",
    "        # Remover stop words\n",
    "        return ' '.join([word for word in tags.split() if word.lower() not in stop_words])\n",
    "    else:\n",
    "        return tags  # Retorna o valor original se não for uma string"
   ]
  },
  {
   "cell_type": "code",
   "execution_count": 17,
   "metadata": {},
   "outputs": [
    {
     "data": {
      "text/plain": [
       "'Duck Halls: Mickey Mouse Christmas Special Join Mickey gang duck halls! Animation Family 2016 ChrisDiamantopoulos TonyAnselmo TressMacNeille BillFarmer RussiTaylor CoreyBurton AlonsoRamirezRamos DaveWasson TV-G Movie'"
      ]
     },
     "execution_count": 17,
     "metadata": {},
     "output_type": "execute_result"
    }
   ],
   "source": [
    "# Aplicando a função à coluna 'tags' usando uma expressão lambda\n",
    "disney_df['tags'] = disney_df['tags'].apply(lambda x: remover_stop_words(x))\n",
    "disney_df['tags'][0]"
   ]
  },
  {
   "cell_type": "markdown",
   "metadata": {},
   "source": [
    "### 3.2: Stemming\n",
    "\n",
    "We are going to perform the stemming process on our tags\n",
    "\n",
    "- Stemming is the process of reducing words to their root or base form, even if the result is not a valid word. This helps to group together words with similar meanings. For example, \"running,\" \"runs,\" and \"runner\" would all be stemmed to \"run.\""
   ]
  },
  {
   "cell_type": "code",
   "execution_count": 18,
   "metadata": {},
   "outputs": [],
   "source": [
    "from nltk.stem import PorterStemmer\n",
    "ps = PorterStemmer()\n",
    "\n",
    "def stems(text):\n",
    "    T = []\n",
    "    \n",
    "    for i in text.split():\n",
    "        T.append(ps.stem(i))\n",
    "    \n",
    "    return \" \".join(T)"
   ]
  },
  {
   "cell_type": "code",
   "execution_count": 19,
   "metadata": {},
   "outputs": [],
   "source": [
    "# Aplica a função aos valores não nulos\n",
    "disney_df['tags'] = disney_df['tags'].apply(lambda x: stems(x) if isinstance(x, str) else x)"
   ]
  },
  {
   "cell_type": "code",
   "execution_count": 20,
   "metadata": {},
   "outputs": [
    {
     "data": {
      "text/plain": [
       "'duck halls: mickey mous christma special join mickey gang duck halls! anim famili 2016 chrisdiamantopoulo tonyanselmo tressmacneil billfarm russitaylor coreyburton alonsoramirezramo davewasson tv-g movi'"
      ]
     },
     "execution_count": 20,
     "metadata": {},
     "output_type": "execute_result"
    }
   ],
   "source": [
    "disney_df.iloc[0]['tags']"
   ]
  },
  {
   "cell_type": "markdown",
   "metadata": {},
   "source": [
    "### 3.3: CountVectorizer\n",
    "\n",
    "We're about to apply CountVectorizer to our tags, converting them into numerical representations for analysis.\n",
    "\n",
    "- CountVectorizer is a method used for converting a collection of text documents into a matrix of token counts. It essentially converts text data into numerical data that can be used by machine learning algorithms."
   ]
  },
  {
   "cell_type": "code",
   "execution_count": 21,
   "metadata": {},
   "outputs": [],
   "source": [
    "from sklearn.feature_extraction.text import CountVectorizer\n",
    "cv = CountVectorizer(max_features=5000,stop_words='english')"
   ]
  },
  {
   "cell_type": "code",
   "execution_count": 22,
   "metadata": {},
   "outputs": [],
   "source": [
    "# Fill NaN values with an empty string\n",
    "disney_df['tags'].fillna('', inplace=True)\n",
    "\n",
    "vector = cv.fit_transform(disney_df['tags']).toarray()"
   ]
  },
  {
   "cell_type": "code",
   "execution_count": 23,
   "metadata": {},
   "outputs": [
    {
     "data": {
      "text/plain": [
       "array([0, 0, 0, ..., 0, 0, 0], dtype=int64)"
      ]
     },
     "execution_count": 23,
     "metadata": {},
     "output_type": "execute_result"
    }
   ],
   "source": [
    "vector[0]"
   ]
  },
  {
   "cell_type": "code",
   "execution_count": 24,
   "metadata": {},
   "outputs": [
    {
     "data": {
      "text/plain": [
       "(1450, 5000)"
      ]
     },
     "execution_count": 24,
     "metadata": {},
     "output_type": "execute_result"
    }
   ],
   "source": [
    "vector.shape"
   ]
  },
  {
   "cell_type": "code",
   "execution_count": 25,
   "metadata": {},
   "outputs": [
    {
     "data": {
      "text/plain": [
       "5000"
      ]
     },
     "execution_count": 25,
     "metadata": {},
     "output_type": "execute_result"
    }
   ],
   "source": [
    "len(cv.get_feature_names_out())"
   ]
  },
  {
   "cell_type": "markdown",
   "metadata": {},
   "source": [
    "### 3.4: Cosine Similarity\n",
    "\n",
    "We're going to apply Cosine Similarity to our tags now, assessing the similarity between them for better analysis.\n",
    "\n",
    "- Cosine similarity is a measure that quantifies the similarity between two numerical vectors, often used in natural language processing and recommendation tasks. It measures the cosine of the angle between the two vectors and ranges from -1 (completely different) to 1 (identical), with 0 indicating that the vectors are orthogonal (unrelated). In text processing contexts, vectors typically represent word frequencies in documents. Cosine similarity is useful for finding similar documents or calculating the proximity between words based on their occurrence context."
   ]
  },
  {
   "cell_type": "code",
   "execution_count": 26,
   "metadata": {},
   "outputs": [],
   "source": [
    "from sklearn.metrics.pairwise import cosine_similarity\n",
    "similarity = cosine_similarity(vector)\n"
   ]
  },
  {
   "cell_type": "code",
   "execution_count": 27,
   "metadata": {},
   "outputs": [
    {
     "data": {
      "text/plain": [
       "(1450, 1450)"
      ]
     },
     "execution_count": 27,
     "metadata": {},
     "output_type": "execute_result"
    }
   ],
   "source": [
    "similarity.shape"
   ]
  },
  {
   "cell_type": "code",
   "execution_count": 28,
   "metadata": {},
   "outputs": [
    {
     "data": {
      "text/plain": [
       "1"
      ]
     },
     "execution_count": 28,
     "metadata": {},
     "output_type": "execute_result"
    }
   ],
   "source": [
    "disney_df[disney_df['title'] == 'Ernest Saves Christmas'].index[0]"
   ]
  },
  {
   "cell_type": "markdown",
   "metadata": {},
   "source": [
    "### 3.5: Creating a Movie Recommendation System\n",
    "\n",
    "We'll define a function called 'recommend' that takes a movie title as input. It retrieves the index of the movie in the DataFrame, calculates the cosine similarity between the selected movie and all others, sorts them by similarity, and then prints the titles of the 20 most similar movies."
   ]
  },
  {
   "cell_type": "code",
   "execution_count": 29,
   "metadata": {},
   "outputs": [],
   "source": [
    "def recommend(movie):\n",
    "    index = disney_df[disney_df['title'] == movie].index[0]\n",
    "    distances = sorted(list(enumerate(similarity[index])),reverse=True,key = lambda x: x[1])\n",
    "    for i in distances[1:21]:\n",
    "        print(disney_df.iloc[i[0]].title)"
   ]
  },
  {
   "cell_type": "markdown",
   "metadata": {},
   "source": [
    "# Chapter 4: Tests and Conclusions\n",
    "\n",
    "\n",
    "In this final stage, we will test our recommendation system with some movie titles to see what it suggests to us."
   ]
  },
  {
   "cell_type": "code",
   "execution_count": 30,
   "metadata": {},
   "outputs": [
    {
     "name": "stdout",
     "output_type": "stream",
     "text": [
      "Home Alone 2: Lost in New York\n",
      "Home Sweet Home Alone\n",
      "Home Alone 3\n",
      "I'll Be Home for Christmas\n",
      "We Bought a Zoo\n",
      "In Beaver Valley\n",
      "Mr. Boogedy\n",
      "The Proud Family Movie\n",
      "Home on the Range\n",
      "The Sandlot: Heading Home\n",
      "Lady and the Tramp\n",
      "Cheaper by the Dozen 2\n",
      "George & A.J.\n",
      "The Happiest Millionaire\n",
      "Pluto's Christmas Tree\n",
      "The Haunted Mansion\n",
      "Tim Burton’s The Nightmare Before Christmas\n",
      "Mrs. Doubtfire\n",
      "Jingle All the Way 2\n",
      "Herbie Rides Again\n"
     ]
    }
   ],
   "source": [
    "recommend('Home Alone')"
   ]
  },
  {
   "cell_type": "markdown",
   "metadata": {},
   "source": [
    "When we input the movie \"Home Alone\" into our recommendation system, it suggests some titles related to Christmas, such as \"I'll Be Home for Christmas\" and \"Tim Burton’s The Nightmare Before Christmas\", which perfectly aligns with the originally entered film."
   ]
  },
  {
   "cell_type": "code",
   "execution_count": 31,
   "metadata": {},
   "outputs": [
    {
     "name": "stdout",
     "output_type": "stream",
     "text": [
      "The Simpsons in Plusaversary\n",
      "The Good, The Bart, and The Loki\n",
      "G-Force\n",
      "Marvel Studios' Ant-Man\n",
      "Around the World in 80 Days\n",
      "Planes\n",
      "The Lion King 1 1/2\n",
      "Ice Age: Collision Course\n",
      "A Goofy Movie\n",
      "Valiant\n",
      "Toy Story 4\n",
      "Avatar\n",
      "Finding Dory\n",
      "Moana\n",
      "Pirates of the Caribbean: At World's End\n",
      "Underdog\n",
      "The Book of Life\n",
      "X-Men\n",
      "Enchanted\n",
      "Bolt\n"
     ]
    }
   ],
   "source": [
    "recommend(\"Simpsons Movie\")"
   ]
  },
  {
   "cell_type": "markdown",
   "metadata": {},
   "source": [
    "When we entered \"Simpsons Movie\" into our recommendation system, it suggested other content from \"The Simpsons\" and various other compatible titles. However, what caught our attention was the suggestion of \"The Good, The Bart, and The Loki,\" a short film from \"The Simpsons\" series that does not include the family name in the title. This is a good sign that our tags are functioning effectively."
   ]
  },
  {
   "cell_type": "code",
   "execution_count": 32,
   "metadata": {},
   "outputs": [
    {
     "name": "stdout",
     "output_type": "stream",
     "text": [
      "Star Wars: Attack of the Clones (Episode II)\n",
      "Star Wars: Revenge of the Sith (Episode III)\n",
      "Star Wars: A New Hope (Episode IV)\n",
      "Star Wars: The Empire Strikes Back (Episode V)\n",
      "Star Wars: The Rise of Skywalker (Episode IX)\n",
      "Star Wars: Return of the Jedi (Episode VI)\n",
      "Star Wars: The Last Jedi (Episode VIII)\n",
      "Star Wars: The Force Awakens (Episode VII)\n",
      "Flight of the Navigator\n",
      "Rogue One: A Star Wars Story\n",
      "Skyrunners\n",
      "Solo: A Star Wars Story\n",
      "LEGO Star Wars: The New Yoda Chronicles – Duel of the Skywalkers\n",
      "Ewoks: The Battle for Endor\n",
      "X-Men: The Last Stand\n",
      "Caravan of Courage: An Ewok Adventure\n",
      "Percy Jackson & The Olympians: The Lightning Thief\n",
      "Avatar\n",
      "The Adventures of Bullwhip Griffin\n",
      "Marvel Studios' Thor: The Dark World\n"
     ]
    }
   ],
   "source": [
    "recommend('Star Wars: The Phantom Menace (Episode I)')"
   ]
  },
  {
   "cell_type": "markdown",
   "metadata": {},
   "source": [
    "When testing our system with the title 'Star Wars: The Phantom Menace (Episode I)' it suggests several titles from the franchise, including the spin-offs 'Solo: A Star Wars Story' and 'Rogue One: A Star Wars Story,' as well as 'Caravan of Courage: An Ewok Adventure,' which is part of the franchise.\n",
    "\n",
    "Apparently, our recommendation system is fulfilling its purpose."
   ]
  }
 ],
 "metadata": {
  "kernelspec": {
   "display_name": "Python 3",
   "language": "python",
   "name": "python3"
  },
  "language_info": {
   "codemirror_mode": {
    "name": "ipython",
    "version": 3
   },
   "file_extension": ".py",
   "mimetype": "text/x-python",
   "name": "python",
   "nbconvert_exporter": "python",
   "pygments_lexer": "ipython3",
   "version": "3.11.8"
  }
 },
 "nbformat": 4,
 "nbformat_minor": 2
}
